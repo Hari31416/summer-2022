{
 "cells": [
  {
   "cell_type": "markdown",
   "metadata": {},
   "source": [
    "## Binary Search\n"
   ]
  },
  {
   "cell_type": "markdown",
   "metadata": {},
   "source": [
    "### Problem Statement\n"
   ]
  },
  {
   "cell_type": "markdown",
   "metadata": {},
   "source": [
    "- **Task** The goal in this code problem is to implement the binary search algorithm.\n",
    "- **Input Format** The first two lines of the input contain an integer 𝑛 and a sequence $𝑎_0 < 𝑎_1 < · · · < 𝑎_{𝑛−1}$\n",
    "  of 𝑛 distinct positive integers in increasing order. The next two line contain an integer 𝑘 and 𝑘 positive\n",
    "  integers $𝑏_0, 𝑏_1, . . . , 𝑏_{𝑘−1}$.\n",
    "- **Constraints** $1 \\le 𝑘 \\le 10^5$; $1 \\le 𝑛 \\le 3 \\times 10^4$; $1 \\le 𝑎_𝑖 \\le 10^9$ for all $0 \\le 𝑖 < 𝑛$; $1 \\le 𝑏_𝑗 \\le 10^9$ for all $0 \\le 𝑗 < 𝑘$;\n",
    "- **Output Format** For all $𝑖$ from $0$ to $𝑘 − 1$, output an index $0 \\le 𝑗 \\le 𝑛 − 1$ such that $𝑎_𝑗 = 𝑏_𝑖$ or −1 if there\n",
    "  is no such index.\n"
   ]
  },
  {
   "cell_type": "code",
   "execution_count": 31,
   "metadata": {},
   "outputs": [],
   "source": [
    "def binary_search(array, low, high, key):\n",
    "    if array[0]==key:\n",
    "        return 0\n",
    "    if high < low:\n",
    "        return -1\n",
    "    mid = low + (high - low) // 2\n",
    "    if array[mid - 1] == key:\n",
    "        return mid - 1\n",
    "    if array[mid - 1] > key:\n",
    "        return binary_search(array=array, low=low, high=mid - 1, key=key)\n",
    "    else:\n",
    "        return binary_search(array=array, low=mid + 1, high=high, key=key)"
   ]
  },
  {
   "cell_type": "code",
   "execution_count": 34,
   "metadata": {},
   "outputs": [
    {
     "name": "stdout",
     "output_type": "stream",
     "text": [
      "2\n",
      "0\n",
      "-1\n",
      "0\n",
      "-1\n",
      "3\n"
     ]
    }
   ],
   "source": [
    "qs = [8, 1, 23, 1, 11, 12]\n",
    "for q in qs:\n",
    "    A = [1, 5, 8, 12, 13]\n",
    "    print(binary_search(A, 0, len(A), q))"
   ]
  },
  {
   "cell_type": "code",
   "execution_count": 52,
   "metadata": {},
   "outputs": [],
   "source": [
    "def binary_search(input_keys, q):\n",
    "    def binary_search_main(array, low, high, key):\n",
    "        if array[0] == key:\n",
    "            return 0\n",
    "        if high < low:\n",
    "            return -1\n",
    "        mid = low + (high - low) // 2\n",
    "        if array[mid - 1] == key:\n",
    "            return mid-1\n",
    "        if array[mid - 1] > key:\n",
    "            return binary_search_main(array, low, mid - 1, key)\n",
    "        else:\n",
    "            return binary_search_main(array, mid + 1, high, key)\n",
    "\n",
    "    return binary_search_main(array=input_keys, low=0, high=len(input_keys), key=q)\n"
   ]
  },
  {
   "cell_type": "code",
   "execution_count": 53,
   "metadata": {},
   "outputs": [
    {
     "name": "stdout",
     "output_type": "stream",
     "text": [
      "2\n",
      "0\n",
      "-1\n",
      "0\n",
      "-1\n"
     ]
    }
   ],
   "source": [
    "A = [1, 5, 8, 12, 13]\n",
    "qs = [8, 1, 23, 1, 11]\n",
    "for q in qs:\n",
    "    print(binary_search(A, q))"
   ]
  },
  {
   "cell_type": "markdown",
   "metadata": {},
   "source": [
    "## Binary Search with Duplicates"
   ]
  },
  {
   "cell_type": "markdown",
   "metadata": {},
   "source": [
    "### Problem Description"
   ]
  },
  {
   "cell_type": "markdown",
   "metadata": {},
   "source": [
    "**Task.** Find the first occurence of an integer in the given sorted sequence of integers (possibly with duplicates).\n",
    "\n",
    "**Input Format.** The first two lines of the input contain an integer 𝑛 and a sequence $𝑎_0 \\le 𝑎_1 \\le · · · \\le 𝑎_{𝑛−1}$\n",
    "of 𝑛 positive integers in non-decreasing order. The next two lines contain an integer 𝑘 and 𝑘 positive\n",
    "integers $𝑏_0, 𝑏_1, \\cdots , 𝑏_{𝑘−1}$.\n",
    "\n",
    "**Constraints.** $1 \\le 𝑘 \\le 10^5$; $1 \\le 𝑛 \\le 3 \\times 10^4$; $1 \\le 𝑎_𝑖 \\le 10^9$ for all $0 \\le 𝑖 < 𝑛$; $1 \\le 𝑏_𝑗 \\le 10^9$ for all $0 \\le 𝑗 < 𝑘$;\n",
    "\n",
    "**Output Format.** For all 𝑖 from 0 to 𝑘 − 1, output an index $0 \\le 𝑗 \\le 𝑛 − 1$ of the first occurrence of $𝑏_𝑖$ (i.e.,\n",
    "$𝑎_𝑗 = 𝑏_𝑖$) or −1 if there is no such index."
   ]
  },
  {
   "cell_type": "code",
   "execution_count": null,
   "metadata": {},
   "outputs": [],
   "source": [
    "def binary_search(input_keys, q):\n",
    "    def binary_search_main(array, low, high, key):\n",
    "        if array[0] == key:\n",
    "            return 0\n",
    "        if high < low:\n",
    "            return -1\n",
    "        mid = low + (high - low) // 2\n",
    "        if array[mid - 1] == key:\n",
    "            return mid-1\n",
    "        if array[mid - 1] > key:\n",
    "            return binary_search_main(array, low, mid - 1, key)\n",
    "        else:\n",
    "            return binary_search_main(array, mid + 1, high, key)\n",
    "\n",
    "    return binary_search_main(array=input_keys, low=0, high=len(input_keys), key=q)\n"
   ]
  },
  {
   "cell_type": "code",
   "execution_count": 44,
   "metadata": {},
   "outputs": [
    {
     "name": "stdout",
     "output_type": "stream",
     "text": [
      "6\n",
      "3\n",
      "-1\n",
      "0\n"
     ]
    }
   ],
   "source": [
    "A = [2, 4, 4, 4, 7, 7, 9]\n",
    "qs = [9,4,5,2]\n",
    "for q in qs:\n",
    "    print(binary_search(A, q))"
   ]
  },
  {
   "cell_type": "code",
   "execution_count": 47,
   "metadata": {},
   "outputs": [
    {
     "name": "stdout",
     "output_type": "stream",
     "text": [
      "2\n"
     ]
    }
   ],
   "source": [
    "print(binary_search(A, 4))"
   ]
  },
  {
   "cell_type": "markdown",
   "metadata": {},
   "source": [
    "## Majority Element"
   ]
  },
  {
   "cell_type": "markdown",
   "metadata": {},
   "source": [
    "### Problem Description"
   ]
  },
  {
   "cell_type": "markdown",
   "metadata": {},
   "source": [
    "**Task.** The goal in this code problem is to check whether an input sequence contains a majority element.\n",
    "\n",
    "**Input Format.** The first line contains an integer 𝑛, the next one contains a sequence of 𝑛 non-negative\n",
    "integers $𝑎_0, 𝑎_1, \\cdots , 𝑎_{𝑛−1}$.\n",
    "\n",
    "**Constraints.** $1 \\le 𝑛 \\le 10^5$; $0 \\le 𝑎_𝑖 \\le 10^9$ for all $0 \\le 𝑖 < 𝑛$.\n",
    "\n",
    "**Output Format.** Output 1 if the sequence contains an element that appears strictly more than 𝑛/2 times,\n",
    "and 0 otherwise."
   ]
  },
  {
   "cell_type": "code",
   "execution_count": 55,
   "metadata": {},
   "outputs": [],
   "source": [
    "def majority(A):\n",
    "    n = len(A)\n",
    "    mid = n//2+1\n",
    "    print(A)\n",
    "    if len(A)==3:\n",
    "        return A[0] == A[1] or A[0] == A[2] or A[1] == A[2]\n",
    "\n",
    "    if len(A)==2:\n",
    "        return A[0] == A[1]\n",
    "\n",
    "    if len(A) == 1:\n",
    "        return False\n",
    "        \n",
    "    if n%2==0:  \n",
    "        return majority(A[:mid-1]) or majority(A[mid-1:])\n",
    "    else:\n",
    "        return majority(A[:mid]) or majority(A[mid:])"
   ]
  },
  {
   "cell_type": "code",
   "execution_count": 56,
   "metadata": {},
   "outputs": [
    {
     "name": "stdout",
     "output_type": "stream",
     "text": [
      "[2, 3, 2, 2, 9, 2]\n",
      "[2, 3, 2]\n",
      "[2, 3]\n",
      "[2]\n",
      "[2, 9, 2]\n",
      "[2, 9]\n",
      "[2]\n"
     ]
    },
    {
     "data": {
      "text/plain": [
       "False"
      ]
     },
     "execution_count": 56,
     "metadata": {},
     "output_type": "execute_result"
    }
   ],
   "source": [
    "majority([2, 3, 2, 2, 9, 2])"
   ]
  },
  {
   "cell_type": "code",
   "execution_count": 53,
   "metadata": {},
   "outputs": [
    {
     "name": "stdout",
     "output_type": "stream",
     "text": [
      "[2, 3, 9, 2, 2, 1]\n",
      "[2, 3, 9]\n",
      "[2, 2, 1]\n"
     ]
    },
    {
     "data": {
      "text/plain": [
       "True"
      ]
     },
     "execution_count": 53,
     "metadata": {},
     "output_type": "execute_result"
    }
   ],
   "source": [
    "majority([2, 3, 9, 2, 2, 1])"
   ]
  },
  {
   "cell_type": "code",
   "execution_count": 54,
   "metadata": {},
   "outputs": [
    {
     "name": "stdout",
     "output_type": "stream",
     "text": [
      "[12, 512766168, 717383758, 5, 126144732, 5, 573799007, 5, 5, 5, 405079772]\n",
      "[12, 512766168, 717383758, 5, 126144732, 5]\n",
      "[12, 512766168, 717383758]\n",
      "[5, 126144732, 5]\n"
     ]
    },
    {
     "data": {
      "text/plain": [
       "True"
      ]
     },
     "execution_count": 54,
     "metadata": {},
     "output_type": "execute_result"
    }
   ],
   "source": [
    "majority([12, 512766168, 717383758, 5, 126144732, 5, 573799007, 5, 5, 5, 405079772])"
   ]
  },
  {
   "cell_type": "code",
   "execution_count": 58,
   "metadata": {},
   "outputs": [
    {
     "name": "stdout",
     "output_type": "stream",
     "text": [
      "1\n"
     ]
    }
   ],
   "source": [
    "\n",
    "def majority_element(arr, n) :\n",
    "\t\n",
    "\t# sort the array in O(nlogn)\n",
    "\tarr.sort()\n",
    "\tcount, max_ele, temp, f = 1, -1, arr[0], 0\n",
    "\tfor i in range(1, n) :\n",
    "\t\tif(temp == arr[i]) :\n",
    "\t\t\tcount += 1\n",
    "\t\telse :\n",
    "\t\t\tcount = 1\n",
    "\t\t\ttemp = arr[i]\n",
    "\n",
    "\t\tif(max_ele < count) :\n",
    "\t\t\tmax_ele = count\n",
    "\t\t\tele = arr[i]\n",
    "\t\t\t\n",
    "\t\t\tif(max_ele > (n//2)) :\n",
    "\t\t\t\tf = 1\n",
    "\t\t\t\tbreak\n",
    "\n",
    "\tif f == 1 :\n",
    "\t\treturn ele\n",
    "\telse :\n",
    "\t\treturn -1\n",
    "\n",
    "# Driver code\n",
    "arr = [1, 1, 2, 1, 3, 5, 1]\n",
    "n = len(arr)\n",
    "\n",
    "# Function calling\n",
    "print(majority_element(arr, n))\n",
    "\n",
    "# This code is contributed by divyeshrabadiya07\n"
   ]
  },
  {
   "cell_type": "code",
   "execution_count": 59,
   "metadata": {},
   "outputs": [],
   "source": [
    "def majority(arr):\n",
    "    arr.sort()\n",
    "    el_c = arr[0]\n",
    "    cnt = 1\n",
    "    for i in range(1, len(arr)):\n",
    "        if arr[i] == el_c:\n",
    "            cnt += 1\n",
    "        else:\n",
    "            cnt = 1\n",
    "            el_c = arr[i]\n",
    "        \n",
    "        if cnt > len(arr)//2:\n",
    "            return el_c\n",
    "    return -1"
   ]
  },
  {
   "cell_type": "code",
   "execution_count": 65,
   "metadata": {},
   "outputs": [
    {
     "data": {
      "text/plain": [
       "-1"
      ]
     },
     "execution_count": 65,
     "metadata": {},
     "output_type": "execute_result"
    }
   ],
   "source": [
    "majority([1, 3, 2, 2, 9, 2])"
   ]
  },
  {
   "cell_type": "code",
   "execution_count": null,
   "metadata": {},
   "outputs": [],
   "source": []
  }
 ],
 "metadata": {
  "kernelspec": {
   "display_name": "Python 3.8.5",
   "language": "python",
   "name": "python3"
  },
  "language_info": {
   "codemirror_mode": {
    "name": "ipython",
    "version": 3
   },
   "file_extension": ".py",
   "mimetype": "text/x-python",
   "name": "python",
   "nbconvert_exporter": "python",
   "pygments_lexer": "ipython3",
   "version": "3.8.5"
  },
  "orig_nbformat": 4,
  "vscode": {
   "interpreter": {
    "hash": "21040c1b576dca9f4f330277849b9f4819256d524dee23c2b89e431027dafe11"
   }
  }
 },
 "nbformat": 4,
 "nbformat_minor": 2
}
