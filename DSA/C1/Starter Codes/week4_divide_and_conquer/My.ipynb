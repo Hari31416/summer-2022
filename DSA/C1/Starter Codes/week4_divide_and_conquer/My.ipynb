{
 "cells": [
  {
   "cell_type": "markdown",
   "metadata": {},
   "source": [
    "## Binary Search\n"
   ]
  },
  {
   "cell_type": "markdown",
   "metadata": {},
   "source": [
    "### Problem Statement\n"
   ]
  },
  {
   "cell_type": "markdown",
   "metadata": {},
   "source": [
    "- **Task** The goal in this code problem is to implement the binary search algorithm.\n",
    "- **Input Format** The first two lines of the input contain an integer 𝑛 and a sequence $𝑎_0 < 𝑎_1 < · · · < 𝑎_{𝑛−1}$\n",
    "  of 𝑛 distinct positive integers in increasing order. The next two line contain an integer 𝑘 and 𝑘 positive\n",
    "  integers $𝑏_0, 𝑏_1, . . . , 𝑏_{𝑘−1}$.\n",
    "- **Constraints** $1 \\le 𝑘 \\le 10^5$; $1 \\le 𝑛 \\le 3 \\times 10^4$; $1 \\le 𝑎_𝑖 \\le 10^9$ for all $0 \\le 𝑖 < 𝑛$; $1 \\le 𝑏_𝑗 \\le 10^9$ for all $0 \\le 𝑗 < 𝑘$;\n",
    "- **Output Format** For all $𝑖$ from $0$ to $𝑘 − 1$, output an index $0 \\le 𝑗 \\le 𝑛 − 1$ such that $𝑎_𝑗 = 𝑏_𝑖$ or −1 if there\n",
    "  is no such index.\n"
   ]
  },
  {
   "cell_type": "code",
   "execution_count": 31,
   "metadata": {},
   "outputs": [],
   "source": [
    "def binary_search(array, low, high, key):\n",
    "    if array[0]==key:\n",
    "        return 0\n",
    "    if high < low:\n",
    "        return -1\n",
    "    mid = low + (high - low) // 2\n",
    "    if array[mid - 1] == key:\n",
    "        return mid - 1\n",
    "    if array[mid - 1] > key:\n",
    "        return binary_search(array=array, low=low, high=mid - 1, key=key)\n",
    "    else:\n",
    "        return binary_search(array=array, low=mid + 1, high=high, key=key)"
   ]
  },
  {
   "cell_type": "code",
   "execution_count": 34,
   "metadata": {},
   "outputs": [
    {
     "name": "stdout",
     "output_type": "stream",
     "text": [
      "2\n",
      "0\n",
      "-1\n",
      "0\n",
      "-1\n",
      "3\n"
     ]
    }
   ],
   "source": [
    "qs = [8, 1, 23, 1, 11, 12]\n",
    "for q in qs:\n",
    "    A = [1, 5, 8, 12, 13]\n",
    "    print(binary_search(A, 0, len(A), q))"
   ]
  },
  {
   "cell_type": "code",
   "execution_count": 52,
   "metadata": {},
   "outputs": [],
   "source": [
    "def binary_search(input_keys, q):\n",
    "    def binary_search_main(array, low, high, key):\n",
    "        if array[0] == key:\n",
    "            return 0\n",
    "        if high < low:\n",
    "            return -1\n",
    "        mid = low + (high - low) // 2\n",
    "        if array[mid - 1] == key:\n",
    "            return mid-1\n",
    "        if array[mid - 1] > key:\n",
    "            return binary_search_main(array, low, mid - 1, key)\n",
    "        else:\n",
    "            return binary_search_main(array, mid + 1, high, key)\n",
    "\n",
    "    return binary_search_main(array=input_keys, low=0, high=len(input_keys), key=q)\n"
   ]
  },
  {
   "cell_type": "code",
   "execution_count": 53,
   "metadata": {},
   "outputs": [
    {
     "name": "stdout",
     "output_type": "stream",
     "text": [
      "2\n",
      "0\n",
      "-1\n",
      "0\n",
      "-1\n"
     ]
    }
   ],
   "source": [
    "A = [1, 5, 8, 12, 13]\n",
    "qs = [8, 1, 23, 1, 11]\n",
    "for q in qs:\n",
    "    print(binary_search(A, q))"
   ]
  },
  {
   "cell_type": "markdown",
   "metadata": {},
   "source": [
    "## Binary Search with Duplicates"
   ]
  },
  {
   "cell_type": "markdown",
   "metadata": {},
   "source": [
    "### Problem Description"
   ]
  },
  {
   "cell_type": "markdown",
   "metadata": {},
   "source": [
    "**Task.** Find the first occurence of an integer in the given sorted sequence of integers (possibly with duplicates).\n",
    "\n",
    "**Input Format.** The first two lines of the input contain an integer 𝑛 and a sequence $𝑎_0 \\le 𝑎_1 \\le · · · \\le 𝑎_{𝑛−1}$\n",
    "of 𝑛 positive integers in non-decreasing order. The next two lines contain an integer 𝑘 and 𝑘 positive\n",
    "integers $𝑏_0, 𝑏_1, \\cdots , 𝑏_{𝑘−1}$.\n",
    "\n",
    "**Constraints.** $1 \\le 𝑘 \\le 10^5$; $1 \\le 𝑛 \\le 3 \\times 10^4$; $1 \\le 𝑎_𝑖 \\le 10^9$ for all $0 \\le 𝑖 < 𝑛$; $1 \\le 𝑏_𝑗 \\le 10^9$ for all $0 \\le 𝑗 < 𝑘$;\n",
    "\n",
    "**Output Format.** For all 𝑖 from 0 to 𝑘 − 1, output an index $0 \\le 𝑗 \\le 𝑛 − 1$ of the first occurrence of $𝑏_𝑖$ (i.e.,\n",
    "$𝑎_𝑗 = 𝑏_𝑖$) or −1 if there is no such index."
   ]
  },
  {
   "cell_type": "code",
   "execution_count": null,
   "metadata": {},
   "outputs": [],
   "source": [
    "def binary_search(input_keys, q):\n",
    "    def binary_search_main(array, low, high, key):\n",
    "        if array[0] == key:\n",
    "            return 0\n",
    "        if high < low:\n",
    "            return -1\n",
    "        mid = low + (high - low) // 2\n",
    "        if array[mid - 1] == key:\n",
    "            return mid-1\n",
    "        if array[mid - 1] > key:\n",
    "            return binary_search_main(array, low, mid - 1, key)\n",
    "        else:\n",
    "            return binary_search_main(array, mid + 1, high, key)\n",
    "\n",
    "    return binary_search_main(array=input_keys, low=0, high=len(input_keys), key=q)\n"
   ]
  },
  {
   "cell_type": "code",
   "execution_count": 44,
   "metadata": {},
   "outputs": [
    {
     "name": "stdout",
     "output_type": "stream",
     "text": [
      "6\n",
      "3\n",
      "-1\n",
      "0\n"
     ]
    }
   ],
   "source": [
    "A = [2, 4, 4, 4, 7, 7, 9]\n",
    "qs = [9,4,5,2]\n",
    "for q in qs:\n",
    "    print(binary_search(A, q))"
   ]
  },
  {
   "cell_type": "code",
   "execution_count": 47,
   "metadata": {},
   "outputs": [
    {
     "name": "stdout",
     "output_type": "stream",
     "text": [
      "2\n"
     ]
    }
   ],
   "source": [
    "print(binary_search(A, 4))"
   ]
  },
  {
   "cell_type": "markdown",
   "metadata": {},
   "source": [
    "## Majority Element"
   ]
  },
  {
   "cell_type": "markdown",
   "metadata": {},
   "source": [
    "### Problem Description"
   ]
  },
  {
   "cell_type": "markdown",
   "metadata": {},
   "source": [
    "**Task.** The goal in this code problem is to check whether an input sequence contains a majority element.\n",
    "\n",
    "**Input Format.** The first line contains an integer 𝑛, the next one contains a sequence of 𝑛 non-negative\n",
    "integers $𝑎_0, 𝑎_1, \\cdots , 𝑎_{𝑛−1}$.\n",
    "\n",
    "**Constraints.** $1 \\le 𝑛 \\le 10^5$; $0 \\le 𝑎_𝑖 \\le 10^9$ for all $0 \\le 𝑖 < 𝑛$.\n",
    "\n",
    "**Output Format.** Output 1 if the sequence contains an element that appears strictly more than 𝑛/2 times,\n",
    "and 0 otherwise."
   ]
  },
  {
   "cell_type": "code",
   "execution_count": null,
   "metadata": {},
   "outputs": [],
   "source": [
    "def majority(A):\n",
    "    n = len(A)\n",
    "    # A1 = "
   ]
  },
  {
   "cell_type": "markdown",
   "metadata": {},
   "source": []
  }
 ],
 "metadata": {
  "interpreter": {
   "hash": "de718a8ad747ee7ac49283422c9dd388de3f9fba8ab4214a5db121921f189761"
  },
  "kernelspec": {
   "display_name": "Python 3.9.12",
   "language": "python",
   "name": "python3"
  },
  "language_info": {
   "codemirror_mode": {
    "name": "ipython",
    "version": 3
   },
   "file_extension": ".py",
   "mimetype": "text/x-python",
   "name": "python",
   "nbconvert_exporter": "python",
   "pygments_lexer": "ipython3",
   "version": "3.9.12"
  },
  "orig_nbformat": 4
 },
 "nbformat": 4,
 "nbformat_minor": 2
}
