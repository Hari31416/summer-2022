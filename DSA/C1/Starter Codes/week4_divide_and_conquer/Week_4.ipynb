{
 "cells": [
  {
   "cell_type": "markdown",
   "metadata": {},
   "source": [
    "# Imports\n"
   ]
  },
  {
   "cell_type": "code",
   "execution_count": 2,
   "metadata": {},
   "outputs": [],
   "source": [
    "import timeit\n",
    "import random\n",
    "import math\n"
   ]
  },
  {
   "cell_type": "markdown",
   "metadata": {},
   "source": [
    "# Ideas\n"
   ]
  },
  {
   "cell_type": "markdown",
   "metadata": {},
   "source": [
    "## Maximum Value\n"
   ]
  },
  {
   "cell_type": "markdown",
   "metadata": {},
   "source": [
    "### Iterative Solution\n"
   ]
  },
  {
   "cell_type": "code",
   "execution_count": 2,
   "metadata": {},
   "outputs": [],
   "source": [
    "def get_max(a):\n",
    "    max = 0\n",
    "    for i in a:\n",
    "        if i > max:\n",
    "            max = i\n",
    "    return max\n"
   ]
  },
  {
   "cell_type": "code",
   "execution_count": 3,
   "metadata": {},
   "outputs": [
    {
     "data": {
      "text/plain": [
       "12"
      ]
     },
     "execution_count": 3,
     "metadata": {},
     "output_type": "execute_result"
    }
   ],
   "source": [
    "a = [1, 5, 9, 3, 12, 5]\n",
    "get_max(a)\n"
   ]
  },
  {
   "cell_type": "markdown",
   "metadata": {},
   "source": [
    "### Recursive Solution\n"
   ]
  },
  {
   "cell_type": "code",
   "execution_count": 50,
   "metadata": {},
   "outputs": [],
   "source": [
    "i=0\n",
    "def get_max_recursive(a):\n",
    "    global i\n",
    "    i+=1\n",
    "    print(i)\n",
    "    print(a)\n",
    "    if len(a) == 1:\n",
    "        return a[0]\n",
    "    \n",
    "    max_prev = get_max_recursive(a[1:])\n",
    "    print(max_prev)\n",
    "    if a[0] > max_prev:\n",
    "        return a[0]\n",
    "    else:\n",
    "        return max_prev\n"
   ]
  },
  {
   "cell_type": "code",
   "execution_count": 53,
   "metadata": {},
   "outputs": [
    {
     "name": "stdout",
     "output_type": "stream",
     "text": [
      "10\n",
      "[1, 11, 9]\n",
      "11\n",
      "[11, 9]\n",
      "12\n",
      "[9]\n",
      "9\n",
      "11\n"
     ]
    },
    {
     "data": {
      "text/plain": [
       "11"
      ]
     },
     "execution_count": 53,
     "metadata": {},
     "output_type": "execute_result"
    }
   ],
   "source": [
    "a = [1, 11, 9]\n",
    "get_max_recursive(a)"
   ]
  },
  {
   "cell_type": "code",
   "execution_count": 32,
   "metadata": {},
   "outputs": [
    {
     "name": "stdout",
     "output_type": "stream",
     "text": [
      "0.014475999999831402\n",
      "0.004733499999929336\n",
      "1.2788021999999728\n"
     ]
    }
   ],
   "source": [
    "nums = [random.randint(10, 10000) for _ in range(2000)]\n",
    "time1 = timeit.timeit(\n",
    "    \"get_max(nums)\", setup=\"from __main__ import get_max, nums\", number=100\n",
    ")\n",
    "print(time1)\n",
    "time2 = timeit.timeit(\"max(nums)\", setup=\"from __main__ import nums\", number=100)\n",
    "print(time2)\n",
    "time3 = timeit.timeit(\"get_max_recursive(nums)\", setup=\"from __main__ import get_max_recursive, nums\", number=100)\n",
    "print(time3)"
   ]
  },
  {
   "cell_type": "markdown",
   "metadata": {},
   "source": [
    "## Search Array\n"
   ]
  },
  {
   "cell_type": "markdown",
   "metadata": {},
   "source": [
    "### Linear Search\n"
   ]
  },
  {
   "cell_type": "markdown",
   "metadata": {},
   "source": [
    "#### Iterative Solution"
   ]
  },
  {
   "cell_type": "code",
   "execution_count": 1,
   "metadata": {},
   "outputs": [],
   "source": [
    "def linear_search(array, key):\n",
    "    for i in range(len(array)):\n",
    "        if array[i] == key:\n",
    "            return i\n",
    "    return -1\n"
   ]
  },
  {
   "cell_type": "code",
   "execution_count": 2,
   "metadata": {},
   "outputs": [
    {
     "data": {
      "text/plain": [
       "2"
      ]
     },
     "execution_count": 2,
     "metadata": {},
     "output_type": "execute_result"
    }
   ],
   "source": [
    "linear_search([1, 4, 2, 6, 9], 2)\n"
   ]
  },
  {
   "cell_type": "code",
   "execution_count": 3,
   "metadata": {},
   "outputs": [
    {
     "data": {
      "text/plain": [
       "-1"
      ]
     },
     "execution_count": 3,
     "metadata": {},
     "output_type": "execute_result"
    }
   ],
   "source": [
    "linear_search([1, 4, 2, 6, 9], 5)"
   ]
  },
  {
   "cell_type": "markdown",
   "metadata": {},
   "source": [
    "#### Recursive Solution"
   ]
  },
  {
   "cell_type": "code",
   "execution_count": 19,
   "metadata": {},
   "outputs": [],
   "source": [
    "def linear_search_recur(A, low, high, key):\n",
    "    if high<=low:\n",
    "        return -1\n",
    "    if A[low]==key:\n",
    "        return low\n",
    "    return linear_search_recur(A, low+1, high, key)"
   ]
  },
  {
   "cell_type": "code",
   "execution_count": 20,
   "metadata": {},
   "outputs": [
    {
     "data": {
      "text/plain": [
       "2"
      ]
     },
     "execution_count": 20,
     "metadata": {},
     "output_type": "execute_result"
    }
   ],
   "source": [
    "A = [1,24,5,3,4]\n",
    "key=5\n",
    "linear_search_recur(A, 0, len(A), key)"
   ]
  },
  {
   "cell_type": "code",
   "execution_count": 28,
   "metadata": {},
   "outputs": [
    {
     "name": "stdout",
     "output_type": "stream",
     "text": [
      "0.15195940000000974\n",
      "0.03260489999991023\n",
      "0.8323695000000271\n"
     ]
    }
   ],
   "source": [
    "nums = [random.randint(10, 10000) for _ in range(10000)]\n",
    "key = random.sample(nums, 1)[0]\n",
    "time1 = timeit.timeit(\n",
    "    \"linear_search(nums, key)\",\n",
    "    setup=\"from __main__ import linear_search, nums, key\",\n",
    "    number=1000,\n",
    ")\n",
    "print(time1)\n",
    "time2 = timeit.timeit(\n",
    "    \"nums.index(key)\", setup=\"from __main__ import nums, key\", number=1000\n",
    ")\n",
    "print(time2)\n",
    "time3 = timeit.timeit(\n",
    "    \"linear_search_recur(nums, 0, len(nums), key)\",\n",
    "    setup=\"from __main__ import linear_search_recur, nums, key\",\n",
    "    number=1000,\n",
    ")\n",
    "print(time3)"
   ]
  },
  {
   "cell_type": "code",
   "execution_count": 25,
   "metadata": {},
   "outputs": [
    {
     "name": "stdout",
     "output_type": "stream",
     "text": [
      "3000\n"
     ]
    }
   ],
   "source": [
    "import sys\n",
    "print(sys.getrecursionlimit())"
   ]
  },
  {
   "cell_type": "markdown",
   "metadata": {},
   "source": [
    "### Binary Search\n"
   ]
  },
  {
   "cell_type": "code",
   "execution_count": 3,
   "metadata": {},
   "outputs": [],
   "source": [
    "def binary_search(array, low, high, key):\n",
    "    if high < low:\n",
    "        return -1\n",
    "    mid = low + (high - low) // 2\n",
    "    if array[mid - 1] == key:\n",
    "        return mid - 1\n",
    "    if array[mid - 1] > key:\n",
    "        return binary_search(array, low, mid - 1, key)\n",
    "    else:\n",
    "        return binary_search(array, mid + 1, high, key)\n"
   ]
  },
  {
   "cell_type": "code",
   "execution_count": 66,
   "metadata": {},
   "outputs": [
    {
     "name": "stdout",
     "output_type": "stream",
     "text": [
      "6\n",
      "-1\n"
     ]
    }
   ],
   "source": [
    "A = [1, 2, 5, 8, 12, 13, 34, 54]\n",
    "key=5\n",
    "print(binary_search(A, 0, len(A), 34))\n",
    "print(binary_search(A, 0, len(A), 6))"
   ]
  },
  {
   "cell_type": "code",
   "execution_count": 5,
   "metadata": {},
   "outputs": [
    {
     "data": {
      "text/plain": [
       "-1"
      ]
     },
     "execution_count": 5,
     "metadata": {},
     "output_type": "execute_result"
    }
   ],
   "source": [
    "A = [1, 5, 8, 12, 13]\n",
    "qs = [8, 1, 23, 1, 11]\n",
    "binary_search(A, 0, len(A), qs[1])"
   ]
  },
  {
   "cell_type": "code",
   "execution_count": 53,
   "metadata": {},
   "outputs": [
    {
     "name": "stdout",
     "output_type": "stream",
     "text": [
      "12.811724299999696\n",
      "2.9711787000001095\n",
      "0.00849130000005971\n"
     ]
    }
   ],
   "source": [
    "nums = [random.randint(10, 100000) for _ in range(100000)]\n",
    "nums.sort()\n",
    "key = random.sample(nums, 1)[0]\n",
    "time1 = timeit.timeit(\n",
    "    \"linear_search(nums, key)\",\n",
    "    setup=\"from __main__ import linear_search, nums, key\",\n",
    "    number=1000,\n",
    ")\n",
    "print(time1)\n",
    "time2 = timeit.timeit(\n",
    "    \"nums.index(key)\", setup=\"from __main__ import nums, key\", number=1000\n",
    ")\n",
    "print(time2)\n",
    "time3 = timeit.timeit(\n",
    "    \"binary_search(nums,0, len(nums), key)\",\n",
    "    setup=\"from __main__ import binary_search, nums, key\",\n",
    "    number=1000,\n",
    ")\n",
    "print(time3)\n"
   ]
  },
  {
   "cell_type": "markdown",
   "metadata": {},
   "source": [
    "#### Stress Testing\n"
   ]
  },
  {
   "cell_type": "code",
   "execution_count": 11,
   "metadata": {},
   "outputs": [],
   "source": [
    "test = 0\n",
    "with open(\"stress_test.txt\", \"w\") as f:\n",
    "    while test < 1000:\n",
    "        nums = [random.randint(1, 20) for _ in range(random.randint(1, 10))]\n",
    "        nums.sort()\n",
    "        key = random.randint(1, 20)\n",
    "        sol1 = linear_search(nums, key)\n",
    "        sol2 = binary_search(nums, 0, len(nums), key)\n",
    "        test += 1\n",
    "        if sol1 == sol2:\n",
    "            f.writelines(\"OKAY\\n\")\n",
    "            # f.writelines(f\"{nums, key}\\n\")\n",
    "            # print(\"OKAY\")\n",
    "        else:\n",
    "            f.writelines(f\"{sol1} and {sol2}\\n\")\n",
    "            f.writelines(f\"{nums[sol1-5:sol1+5], key}\\n\")\n"
   ]
  },
  {
   "cell_type": "markdown",
   "metadata": {},
   "source": [
    "# Polynomial Multiplication\n"
   ]
  },
  {
   "cell_type": "markdown",
   "metadata": {},
   "source": [
    "The problem is the following:"
   ]
  },
  {
   "cell_type": "markdown",
   "metadata": {},
   "source": [
    "![](pm.png)"
   ]
  },
  {
   "cell_type": "markdown",
   "metadata": {},
   "source": [
    "### Naive Solution"
   ]
  },
  {
   "cell_type": "code",
   "execution_count": 12,
   "metadata": {},
   "outputs": [],
   "source": [
    "def pm_naive(A, B):\n",
    "    n = len(A)\n",
    "    C = [0] * (2*n-1)\n",
    "    for i in range(n):\n",
    "        for j in range(n):\n",
    "            C[i+j] += A[i] * B[j]\n",
    "    return C"
   ]
  },
  {
   "cell_type": "code",
   "execution_count": 13,
   "metadata": {},
   "outputs": [
    {
     "data": {
      "text/plain": [
       "[3, 10, 8]"
      ]
     },
     "execution_count": 13,
     "metadata": {},
     "output_type": "execute_result"
    }
   ],
   "source": [
    "A = [1,2]\n",
    "B = [3,4]\n",
    "pm_naive(A, B)"
   ]
  },
  {
   "cell_type": "markdown",
   "metadata": {},
   "source": [
    "### (Naive) Recursive Solution"
   ]
  },
  {
   "cell_type": "code",
   "execution_count": 14,
   "metadata": {},
   "outputs": [],
   "source": [
    "def pm_naive_recur(A, B, i, j):\n",
    "    if i == len(A) or j == len(B):\n",
    "        return 0\n",
    "    return A[i] * B[j] + pm_naive_recur(A, B, i+1, j+1)"
   ]
  },
  {
   "cell_type": "code",
   "execution_count": 15,
   "metadata": {},
   "outputs": [
    {
     "data": {
      "text/plain": [
       "11"
      ]
     },
     "execution_count": 15,
     "metadata": {},
     "output_type": "execute_result"
    }
   ],
   "source": [
    "pm_naive_recur(A, B, 0, 0)"
   ]
  },
  {
   "cell_type": "markdown",
   "metadata": {},
   "source": []
  }
 ],
 "metadata": {
  "interpreter": {
   "hash": "21040c1b576dca9f4f330277849b9f4819256d524dee23c2b89e431027dafe11"
  },
  "kernelspec": {
   "display_name": "Python 3.8.5",
   "language": "python",
   "name": "python3"
  },
  "language_info": {
   "codemirror_mode": {
    "name": "ipython",
    "version": 3
   },
   "file_extension": ".py",
   "mimetype": "text/x-python",
   "name": "python",
   "nbconvert_exporter": "python",
   "pygments_lexer": "ipython3",
   "version": "3.8.5"
  },
  "orig_nbformat": 4
 },
 "nbformat": 4,
 "nbformat_minor": 2
}
