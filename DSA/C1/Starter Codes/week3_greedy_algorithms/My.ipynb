{
 "cells": [
  {
   "cell_type": "markdown",
   "metadata": {},
   "source": [
    "# Greedy Algorithms"
   ]
  },
  {
   "cell_type": "markdown",
   "metadata": {},
   "source": [
    "A greedy algorithm is an approach for solving a problem by selecting the best option available at the moment. It doesn't worry whether the current best result will bring the overall optimal result. The algorithm never reverses the earlier decision even if the choice is wrong"
   ]
  },
  {
   "cell_type": "markdown",
   "metadata": {},
   "source": [
    "## Money Change"
   ]
  },
  {
   "cell_type": "markdown",
   "metadata": {},
   "source": [
    "### Problem Description"
   ]
  },
  {
   "cell_type": "markdown",
   "metadata": {},
   "source": [
    "* **Task** The goal in this problem is to find the minimum number of coins needed to change the input value\n",
    "(an integer) into coins with denominations 1, 5, and 10.\n",
    "* **Input Format** The input consists of a single integer 𝑚.\n",
    "* **Constraints** $1 \\le 𝑚 \\le 10^3$.\n",
    "* **Output Format** Output the minimum number of coins with denominations 1, 5, 10 that changes 𝑚"
   ]
  },
  {
   "cell_type": "code",
   "execution_count": 36,
   "metadata": {},
   "outputs": [],
   "source": [
    "def money_change(m):\n",
    "   denominations = [10, 5]\n",
    "   coins = 0\n",
    "   remaining = m\n",
    "   for d in denominations:\n",
    "      remainder = remaining%d\n",
    "      coin = int((remaining-remainder)/d)\n",
    "      coins+=coin\n",
    "      remaining = remaining - coin*d\n",
    "   return coins + remaining"
   ]
  },
  {
   "cell_type": "code",
   "execution_count": 38,
   "metadata": {},
   "outputs": [
    {
     "name": "stdout",
     "output_type": "stream",
     "text": [
      "D: 10, Coins: 2, Remaining: 8\n",
      "D: 5, Coins: 1, Remaining: 3\n"
     ]
    },
    {
     "data": {
      "text/plain": [
       "6"
      ]
     },
     "execution_count": 38,
     "metadata": {},
     "output_type": "execute_result"
    }
   ],
   "source": [
    "money_change(28)"
   ]
  },
  {
   "cell_type": "markdown",
   "metadata": {},
   "source": [
    "## Maximum Value of the Loot"
   ]
  },
  {
   "cell_type": "markdown",
   "metadata": {},
   "source": [
    "### Problem Description"
   ]
  },
  {
   "cell_type": "markdown",
   "metadata": {},
   "source": [
    "* **Task** The goal of this code problem is to implement an algorithm for the fractional knapsack problem.\n",
    "* **Input Format** The first line of the input contains the number 𝑛 of items and the capacity 𝑊 of a knapsack.\n",
    "The next 𝑛 lines define the values and weights of the items. The $𝑖^{th}$ line contains integers $𝑣_𝑖$ and $𝑤_𝑖$ the\n",
    "value and the weight of 𝑖-th item, respectively.\n",
    "* **Constraints** $1 \\le 𝑛 \\le 10^3$, $0 \\le 𝑊 \\le 2\\times 10^6$; $0 \\le 𝑣_𝑖 \\le 2\\times 10^6$, $0 < 𝑤_𝑖 \\le 2\\times 10^6$ for all $1 \\le 𝑖 \\le 𝑛$. All the\n",
    "numbers are integers.\n",
    "* **Output Format** Output the maximal value of fractions of items that fit into the knapsack. The absolute\n",
    "value of the difference between the answer of your program and the optimal value should be at most\n",
    "$10^{-3}$. To ensure this, output your answer with at least four digits after the decimal point (otherwise\n",
    "your answer, while being computed correctly, can turn out to be wrong because of rounding issues)."
   ]
  },
  {
   "cell_type": "code",
   "execution_count": 62,
   "metadata": {},
   "outputs": [],
   "source": [
    "import math\n",
    "def get_optimal_value(capacity, weights, values):\n",
    "    cur_cap = capacity\n",
    "    i= 0\n",
    "    loot = 0.0\n",
    "    min_value = min(weights)\n",
    "\n",
    "    if len(weights) == 1:\n",
    "        if capacity>weights[0]:\n",
    "            return values[0]\n",
    "        else:\n",
    "            return (capacity/weights[0])*values[0]\n",
    "        \n",
    "    while cur_cap>=min_value:\n",
    "        max_value = max(values)\n",
    "        item_position = values.index(max_value)\n",
    "        item_weight = weights[item_position]\n",
    "        max_items = math.floor(cur_cap/item_weight)\n",
    "        loot+= max_items*max_value\n",
    "        cur_cap = cur_cap-max_items*item_weight\n",
    "        values.remove(max_value)\n",
    "        print(f\"Current Capacity: {cur_cap}, loot: {loot}\")\n",
    "        i+=1\n",
    "        if i==10:\n",
    "            print(\"Infinity>>>\")\n",
    "            break\n",
    "    return loot"
   ]
  },
  {
   "cell_type": "code",
   "execution_count": 63,
   "metadata": {},
   "outputs": [
    {
     "name": "stdout",
     "output_type": "stream",
     "text": [
      "Current Capacity: 20, loot: 120.0\n",
      "Current Capacity: 20, loot: 120.0\n",
      "Current Capacity: 0, loot: 180.0\n"
     ]
    },
    {
     "data": {
      "text/plain": [
       "180.0"
      ]
     },
     "execution_count": 63,
     "metadata": {},
     "output_type": "execute_result"
    }
   ],
   "source": [
    "capacity = 50\n",
    "weight = [20, 50, 30]\n",
    "values = [60, 100, 120]\n",
    "\n",
    "get_optimal_value(capacity, weight, values)"
   ]
  },
  {
   "cell_type": "code",
   "execution_count": 64,
   "metadata": {},
   "outputs": [
    {
     "data": {
      "text/plain": [
       "166.66666666666666"
      ]
     },
     "execution_count": 64,
     "metadata": {},
     "output_type": "execute_result"
    }
   ],
   "source": [
    "capacity = 10\n",
    "weight = [30]\n",
    "values = [500]\n",
    "\n",
    "get_optimal_value(capacity, weight, values)"
   ]
  },
  {
   "cell_type": "code",
   "execution_count": 65,
   "metadata": {},
   "outputs": [
    {
     "data": {
      "text/plain": [
       "500"
      ]
     },
     "execution_count": 65,
     "metadata": {},
     "output_type": "execute_result"
    }
   ],
   "source": [
    "capacity = 1000\n",
    "weight = [30]\n",
    "values = [500]\n",
    "\n",
    "get_optimal_value(capacity, weight, values)"
   ]
  },
  {
   "cell_type": "markdown",
   "metadata": {},
   "source": [
    "## Car Fueling"
   ]
  },
  {
   "cell_type": "markdown",
   "metadata": {},
   "source": [
    "### Problem Description"
   ]
  },
  {
   "cell_type": "markdown",
   "metadata": {},
   "source": [
    "* **Input Format** The first line contains an integer 𝑑. The second line contains an integer 𝑚. The third line\n",
    "specifies an integer 𝑛. Finally, the last line contains integers $stop_1, stop_2, \\cdots , stop_𝑛$.\n",
    "* **Output Format** Assuming that the distance between the cities is 𝑑 miles, a car can travel at most 𝑚 miles\n",
    "on a full tank, and there are gas stations at distances $stop_1, stop_2, \\cdots , stop_𝑛$ along the way, output the\n",
    "minimum number of refills needed. Assume that the car starts with a full tank. If it is not possible to\n",
    "reach the destination, output −1.\n",
    "* **Constraints** $1 \\le 𝑑 \\le 10^5; 1 \\le 𝑚 \\le 400; 1 \\le 𝑛 \\le 300; 0 < stop_1 < stop_2 < \\cdots < stop_𝑛 < 𝑑$"
   ]
  },
  {
   "cell_type": "code",
   "execution_count": 7,
   "metadata": {},
   "outputs": [],
   "source": [
    "def compute_min_refills(distance, tank, stops):\n",
    "    # write your code here\n",
    "    num_stops = 0\n",
    "    remaining_distance = distance\n",
    "    current_dist = 0\n",
    "    for i, dist in enumerate(stops[:-1]):\n",
    "        #Changing Distances\n",
    "        current_dist += dist\n",
    "        remaining_distance -= dist\n",
    "        #Checking whether car has reached its destination\n",
    "        reached = remaining_distance<=0\n",
    "        \n",
    "        #If yes, return num_stops\n",
    "        if reached:\n",
    "            print(\"Reached!\")\n",
    "            return num_stops\n",
    "        print(\"Distance Remaiming\", remaining_distance)\n",
    "        \n",
    "        #Check whether the car can reach the next stop\n",
    "        next_stop_dist = current_dist + stops[i+1]\n",
    "        print(\"Next stop at\", next_stop_dist)\n",
    "        print(\"While tank is\", tank)\n",
    "        if next_stop_dist<=tank:\n",
    "            #If yes, continue\n",
    "            print(\"Distnace on meter,\", current_dist, \"Can continue\")\n",
    "            continue\n",
    "        else:\n",
    "            #Else fill the tank\n",
    "            print(\"Fill the tank\")\n",
    "            num_stops+=1\n",
    "            current_dist = 0\n",
    "    return -1"
   ]
  },
  {
   "cell_type": "code",
   "execution_count": 11,
   "metadata": {},
   "outputs": [
    {
     "name": "stdout",
     "output_type": "stream",
     "text": [
      "Distance Remaiming 750\n",
      "Next stop at 575\n",
      "While tank is 400\n",
      "Fill the tank\n",
      "Distance Remaiming 375\n",
      "Next stop at 925\n",
      "While tank is 400\n",
      "Fill the tank\n",
      "Reached!\n"
     ]
    },
    {
     "data": {
      "text/plain": [
       "2"
      ]
     },
     "execution_count": 11,
     "metadata": {},
     "output_type": "execute_result"
    }
   ],
   "source": [
    "distance = 950\n",
    "tank = 400\n",
    "stops = [200, 375, 550, 750]\n",
    "compute_min_refills(distance, tank, stops)"
   ]
  },
  {
   "cell_type": "code",
   "execution_count": 9,
   "metadata": {},
   "outputs": [
    {
     "name": "stdout",
     "output_type": "stream",
     "text": [
      "Distance Remaiming 9\n",
      "Next stop at 3\n",
      "While tank is 3\n",
      "Distnace on meter, 1 Can continue\n",
      "Distance Remaiming 7\n",
      "Next stop at 8\n",
      "While tank is 3\n",
      "Fill the tank\n",
      "Distance Remaiming 2\n",
      "Next stop at 14\n",
      "While tank is 3\n",
      "Fill the tank\n"
     ]
    },
    {
     "data": {
      "text/plain": [
       "-1"
      ]
     },
     "execution_count": 9,
     "metadata": {},
     "output_type": "execute_result"
    }
   ],
   "source": [
    "distance = 10\n",
    "tank = 3\n",
    "stops = [1, 2, 5, 9]\n",
    "compute_min_refills(distance, tank, stops)"
   ]
  },
  {
   "cell_type": "code",
   "execution_count": 10,
   "metadata": {},
   "outputs": [
    {
     "name": "stdout",
     "output_type": "stream",
     "text": [
      "Distance Remaiming 100\n",
      "Next stop at 250\n",
      "While tank is 250\n",
      "Distnace on meter, 100 Can continue\n"
     ]
    },
    {
     "data": {
      "text/plain": [
       "-1"
      ]
     },
     "execution_count": 10,
     "metadata": {},
     "output_type": "execute_result"
    }
   ],
   "source": [
    "distance = 200\n",
    "tank = 250\n",
    "stops = [100, 150]\n",
    "compute_min_refills(distance, tank, stops)"
   ]
  },
  {
   "cell_type": "markdown",
   "metadata": {},
   "source": [
    "## Maximum Advertisement Revenue"
   ]
  },
  {
   "cell_type": "markdown",
   "metadata": {},
   "source": [
    "### Problem Description"
   ]
  },
  {
   "cell_type": "markdown",
   "metadata": {},
   "source": [
    "* **Task** Given two sequences $𝑎_1, 𝑎_2, \\cdots , 𝑎_𝑛$ ($𝑎_𝑖$ is the profit per click of the 𝑖-th ad) and $𝑏_1, 𝑏_2, \\cdots , 𝑏_𝑛$ ($𝑏_𝑖$ is\n",
    "the average number of clicks per day of the 𝑖-th slot), we need to partition them into 𝑛 pairs $(𝑎_𝑖, 𝑏_𝑗)$\n",
    "such that the sum of their products is maximized.\n",
    "* **Input Format** The first line contains an integer 𝑛, the second one contains a sequence of integers\n",
    "$𝑎_1, 𝑎_2, \\cdots , 𝑎_𝑛$, the third one contains a sequence of integers $𝑏_1, 𝑏_2, \\cdots , 𝑏_𝑛$.\n",
    "* **Constraints** $1 \\le 𝑛 \\le 10^3$; $−10^5 \\le 𝑎_𝑖$, $𝑏_𝑖 \\le 10^5$ for all $1 \\le 𝑖 \\le 𝑛$.\n",
    "* **Output Format** Output the maximum value of $\\sum_i^n 𝑎_𝑖𝑐_𝑖$, where $𝑐_1, 𝑐_2, \\cdots , 𝑐_𝑛$ is a permutation of\n",
    "$𝑏_1, 𝑏_2, \\cdots , 𝑏_𝑛$."
   ]
  },
  {
   "cell_type": "code",
   "execution_count": 40,
   "metadata": {},
   "outputs": [],
   "source": [
    "def max_dot_product(a, b):\n",
    "    a.sort()\n",
    "    b.sort()\n",
    "    multiple = [i*j for i, j in zip(a,b)]\n",
    "    return sum(multiple)"
   ]
  },
  {
   "cell_type": "code",
   "execution_count": 41,
   "metadata": {},
   "outputs": [
    {
     "data": {
      "text/plain": [
       "23"
      ]
     },
     "execution_count": 41,
     "metadata": {},
     "output_type": "execute_result"
    }
   ],
   "source": [
    "a = [1,3,-5]\n",
    "b = [-2, 4, 1]\n",
    "max_dot_product(a, b)"
   ]
  },
  {
   "cell_type": "code",
   "execution_count": 35,
   "metadata": {},
   "outputs": [
    {
     "data": {
      "text/plain": [
       "[-5, 1, 3]"
      ]
     },
     "execution_count": 35,
     "metadata": {},
     "output_type": "execute_result"
    }
   ],
   "source": [
    "a.sort()\n",
    "a"
   ]
  },
  {
   "cell_type": "markdown",
   "metadata": {},
   "source": [
    "## Collecting Signatures"
   ]
  },
  {
   "cell_type": "markdown",
   "metadata": {},
   "source": [
    "### Problem Description"
   ]
  },
  {
   "cell_type": "markdown",
   "metadata": {},
   "source": [
    "* **Task** Given a set of 𝑛 segments $\\{[𝑎_0, 𝑏_0], [𝑎_1, 𝑏_1], . . . , [𝑎_𝑛−1, 𝑏_𝑛−1]\\}$ with integer coordinates on a line, find\n",
    "the minimum number 𝑚 of points such that each segment contains at least one point. That is, find a\n",
    "set of integers 𝑋 of the minimum size such that for any segment $[𝑎_𝑖, 𝑏_𝑖]$ there is a point $𝑥 ∈ 𝑋$ such\n",
    "that $𝑎_𝑖 \\le 𝑥 \\le 𝑏_𝑖$.\n",
    "* **Input Format** The first line of the input contains the number 𝑛 of segments. Each of the following 𝑛 lines\n",
    "contains two integers 𝑎_𝑖 and 𝑏_𝑖 (separated by a space) defining the coordinates of endpoints of the 𝑖-th\n",
    "segment.\n",
    "* **Constraints** $1 \\le 𝑛 \\le 100; 0 \\le 𝑎_𝑖, \\le 𝑏_𝑖 \\le 10^9$ for all $0 \\le 𝑖 < 𝑛$.\n",
    "* **Output Format** Output the minimum number 𝑚 of points on the first line and the integer coordinates\n",
    "of 𝑚 points (separated by spaces) on the second line. You can output the points in any order. If there\n",
    "are many such sets of points, you can output any set. (It is not difficult to see that there always exist\n",
    "a set of points of the minimum size such that all the coordinates of the points are integers.)"
   ]
  },
  {
   "cell_type": "code",
   "execution_count": null,
   "metadata": {},
   "outputs": [],
   "source": [
    "def optimal_points(segments):\n",
    "    lenghts = []\n",
    "    \n",
    "    original_segment = segments\n",
    "    #Find length of all segments\n",
    "    for i, j in segments:\n",
    "        lenghts.append(j-i)\n",
    "    \n",
    "    while len(segments)!=0:\n",
    "        max_lenght = max(lenghts)\n",
    "        index = lenghts.index(max_lenght)\n",
    "        nums = list(range(segments[index][0], segments[index][1]))\n",
    "        segments.remove(segments[index])\n",
    "        lenghts.remove(max_lenght)\n",
    "\n",
    "        for num in nums:\n",
    "            for segment in segments:\n",
    "                if num in range(segment):\n",
    "                    segments.remove(segment)\n",
    "    pass"
   ]
  },
  {
   "cell_type": "markdown",
   "metadata": {},
   "source": [
    "## Maximum Number of Prizes"
   ]
  },
  {
   "cell_type": "markdown",
   "metadata": {},
   "source": [
    "### Problem Description"
   ]
  },
  {
   "cell_type": "markdown",
   "metadata": {},
   "source": [
    "* **Task** The goal of this problem is to represent a given positive integer 𝑛 as a sum of as many pairwise\n",
    "distinct positive integers as possible. That is, to find the maximum 𝑘 such that 𝑛 can be written as\n",
    "$𝑎_1 + 𝑎_2 + \\cdots + 𝑎_𝑘$ where $𝑎_1, \\cdots , 𝑎_𝑘$ are positive integers and $a_i \\neq a_j$ for all $1 \\le 𝑖 < 𝑗 \\le 𝑘$.\n",
    "* **Input Format** The input consists of a single integer 𝑛.\n",
    "* **Constraints** $1 \\le 𝑛 \\le 10^9$.\n",
    "* **Output Format** In the first line, output the maximum number 𝑘 such that 𝑛 can be represented as a sum\n",
    "of 𝑘 pairwise distinct positive integers. In the second line, output 𝑘 pairwise distinct positive integers\n",
    "that sum up to 𝑛 (if there are many such representations, output any of them)."
   ]
  },
  {
   "cell_type": "code",
   "execution_count": null,
   "metadata": {},
   "outputs": [],
   "source": [
    "def optimal_summands(n):\n",
    "    summands = []\n",
    "    #write your code here\n",
    "    \n",
    "    return summands"
   ]
  },
  {
   "cell_type": "markdown",
   "metadata": {},
   "source": [
    "## Maximum Salary"
   ]
  },
  {
   "cell_type": "markdown",
   "metadata": {},
   "source": [
    "### Problem Description"
   ]
  },
  {
   "cell_type": "markdown",
   "metadata": {},
   "source": [
    "* **Task** Compose the largest number out of a set of integers.\n",
    "* **Input Format** The first line of the input contains an integer 𝑛. The second line contains integers\n",
    "$𝑎_1, 𝑎_2, \\cdots, 𝑎_𝑛$.\n",
    "* **Constraints** $1 \\le 𝑛 \\le 100$; $1 \\le 𝑎_𝑖 \\le 10^3$ for all $1 \\le 𝑖 \\le 𝑛$.\n",
    "* **Output Format** Output the largest number that can be composed out of $𝑎_1, 𝑎_2, \\cdots, 𝑎_𝑛$."
   ]
  },
  {
   "cell_type": "code",
   "execution_count": 46,
   "metadata": {},
   "outputs": [],
   "source": [
    "def largest_number(a):\n",
    "    single_nums = []\n",
    "    for n in a:\n",
    "        for m in list(str(n)):\n",
    "            single_nums.append(int(m))\n",
    "    single_nums.sort(reverse=True)\n",
    "    nums = [str(i) for i in single_nums]\n",
    "    return int(\"\".join(nums))"
   ]
  },
  {
   "cell_type": "code",
   "execution_count": 47,
   "metadata": {},
   "outputs": [
    {
     "data": {
      "text/plain": [
       "221"
      ]
     },
     "execution_count": 47,
     "metadata": {},
     "output_type": "execute_result"
    }
   ],
   "source": [
    "largest_number([21, 2])"
   ]
  },
  {
   "cell_type": "code",
   "execution_count": 49,
   "metadata": {},
   "outputs": [
    {
     "data": {
      "text/plain": [
       "993322"
      ]
     },
     "execution_count": 49,
     "metadata": {},
     "output_type": "execute_result"
    }
   ],
   "source": [
    "largest_number([23, 39, 92])"
   ]
  },
  {
   "cell_type": "markdown",
   "metadata": {},
   "source": []
  }
 ],
 "metadata": {
  "interpreter": {
   "hash": "ce44b17c45080b8f56a19c9450d52461d624c968fcd959bb1916985c5ffa2b94"
  },
  "kernelspec": {
   "display_name": "Python 3.8.5",
   "language": "python",
   "name": "python3"
  },
  "language_info": {
   "codemirror_mode": {
    "name": "ipython",
    "version": 3
   },
   "file_extension": ".py",
   "mimetype": "text/x-python",
   "name": "python",
   "nbconvert_exporter": "python",
   "pygments_lexer": "ipython3",
   "version": "3.8.5"
  },
  "orig_nbformat": 4
 },
 "nbformat": 4,
 "nbformat_minor": 2
}
