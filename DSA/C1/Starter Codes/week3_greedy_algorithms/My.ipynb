{
 "cells": [
  {
   "cell_type": "markdown",
   "metadata": {},
   "source": [
    "<h1 id=\"Contents\">Contents<a href=\"#Contents\"></a></h2>\n",
    "        <ol>\n",
    "        <li><a class=\"\" href=\"#Greedy-Algorithms\">Greedy Algorithms</a></li>\n",
    "<ol><li><a class=\"\" href=\"#Money-Change\">Money Change</a></li>\n",
    "<ol><li><a class=\"\" href=\"#Problem-Description\">Problem Description</a></li>\n",
    "<li><a class=\"\" href=\"#Problem-Description\">Problem Description</a></li>\n",
    "<li><a class=\"\" href=\"#Problem-Description\">Problem Description</a></li>\n",
    "<li><a class=\"\" href=\"#Problem-Description\">Problem Description</a></li>\n",
    "<li><a class=\"\" href=\"#Problem-Description\">Problem Description</a></li>\n",
    "<li><a class=\"\" href=\"#Problem-Description\">Problem Description</a></li>\n",
    "<li><a class=\"\" href=\"#Problem-Description\">Problem Description</a></li>\n",
    "</ol><li><a class=\"\" href=\"#Maximum-Value-of-the-Loot\">Maximum Value of the Loot</a></li>\n",
    "<li><a class=\"\" href=\"#Car-Fueling\">Car Fueling</a></li>\n",
    "<li><a class=\"\" href=\"#Maximum-Advertisement-Revenue\">Maximum Advertisement Revenue</a></li>\n",
    "<li><a class=\"\" href=\"#Collecting-Signatures\">Collecting Signatures</a></li>\n",
    "<li><a class=\"\" href=\"#Maximum-Number-of-Prizes\">Maximum Number of Prizes</a></li>\n",
    "<li><a class=\"\" href=\"#Maximum-Salary\">Maximum Salary</a></li>\n",
    "</ol>"
   ]
  },
  {
   "cell_type": "markdown",
   "metadata": {},
   "source": [
    "# Greedy Algorithms"
   ]
  },
  {
   "cell_type": "markdown",
   "metadata": {},
   "source": [
    "A greedy algorithm is an approach for solving a problem by selecting the best option available at the moment. It doesn't worry whether the current best result will bring the overall optimal result. The algorithm never reverses the earlier decision even if the choice is wrong"
   ]
  },
  {
   "cell_type": "markdown",
   "metadata": {},
   "source": [
    "## Money Change"
   ]
  },
  {
   "cell_type": "markdown",
   "metadata": {},
   "source": [
    "### Problem Description"
   ]
  },
  {
   "cell_type": "markdown",
   "metadata": {},
   "source": [
    "* **Task** The goal in this problem is to find the minimum number of coins needed to change the input value\n",
    "(an integer) into coins with denominations 1, 5, and 10.\n",
    "* **Input Format** The input consists of a single integer 𝑚.\n",
    "* **Constraints** $1 \\le 𝑚 \\le 10^3$.\n",
    "* **Output Format** Output the minimum number of coins with denominations 1, 5, 10 that changes 𝑚"
   ]
  },
  {
   "cell_type": "code",
   "execution_count": 36,
   "metadata": {},
   "outputs": [],
   "source": [
    "def money_change(m):\n",
    "   denominations = [10, 5]\n",
    "   coins = 0\n",
    "   remaining = m\n",
    "   for d in denominations:\n",
    "      remainder = remaining%d\n",
    "      coin = int((remaining-remainder)/d)\n",
    "      coins+=coin\n",
    "      remaining = remaining - coin*d\n",
    "   return coins + remaining"
   ]
  },
  {
   "cell_type": "code",
   "execution_count": 38,
   "metadata": {},
   "outputs": [
    {
     "name": "stdout",
     "output_type": "stream",
     "text": [
      "D: 10, Coins: 2, Remaining: 8\n",
      "D: 5, Coins: 1, Remaining: 3\n"
     ]
    },
    {
     "data": {
      "text/plain": [
       "6"
      ]
     },
     "execution_count": 38,
     "metadata": {},
     "output_type": "execute_result"
    }
   ],
   "source": [
    "money_change(28)"
   ]
  },
  {
   "cell_type": "markdown",
   "metadata": {},
   "source": [
    "## Maximum Value of the Loot"
   ]
  },
  {
   "cell_type": "markdown",
   "metadata": {},
   "source": [
    "### Problem Description"
   ]
  },
  {
   "cell_type": "markdown",
   "metadata": {},
   "source": [
    "* **Task** The goal of this code problem is to implement an algorithm for the fractional knapsack problem.\n",
    "* **Input Format** The first line of the input contains the number 𝑛 of items and the capacity 𝑊 of a knapsack.\n",
    "The next 𝑛 lines define the values and weights of the items. The $𝑖^{th}$ line contains integers $𝑣_𝑖$ and $𝑤_𝑖$ the\n",
    "value and the weight of 𝑖-th item, respectively.\n",
    "* **Constraints** $1 \\le 𝑛 \\le 10^3$, $0 \\le 𝑊 \\le 2\\times 10^6$; $0 \\le 𝑣_𝑖 \\le 2\\times 10^6$, $0 < 𝑤_𝑖 \\le 2\\times 10^6$ for all $1 \\le 𝑖 \\le 𝑛$. All the\n",
    "numbers are integers.\n",
    "* **Output Format** Output the maximal value of fractions of items that fit into the knapsack. The absolute\n",
    "value of the difference between the answer of your program and the optimal value should be at most\n",
    "$10^{-3}$. To ensure this, output your answer with at least four digits after the decimal point (otherwise\n",
    "your answer, while being computed correctly, can turn out to be wrong because of rounding issues)."
   ]
  },
  {
   "cell_type": "code",
   "execution_count": 4,
   "metadata": {},
   "outputs": [],
   "source": [
    "def get_optimal_value(capacity, weights, values):\n",
    "    # Only one item\n",
    "    if len(weights) == 1:\n",
    "        return round(values[0]*(capacity/weights[0]),4)"
   ]
  },
  {
   "cell_type": "code",
   "execution_count": 5,
   "metadata": {},
   "outputs": [
    {
     "data": {
      "text/plain": [
       "166.6667"
      ]
     },
     "execution_count": 5,
     "metadata": {},
     "output_type": "execute_result"
    }
   ],
   "source": [
    "capacity = 10\n",
    "weight = [30]\n",
    "values = [500]\n",
    "\n",
    "get_optimal_value(capacity, weight, values)"
   ]
  },
  {
   "cell_type": "code",
   "execution_count": 63,
   "metadata": {},
   "outputs": [
    {
     "name": "stdout",
     "output_type": "stream",
     "text": [
      "Current Capacity: 20, loot: 120.0\n",
      "Current Capacity: 20, loot: 120.0\n",
      "Current Capacity: 0, loot: 180.0\n"
     ]
    },
    {
     "data": {
      "text/plain": [
       "180.0"
      ]
     },
     "execution_count": 63,
     "metadata": {},
     "output_type": "execute_result"
    }
   ],
   "source": [
    "capacity = 50\n",
    "weight = [20, 50, 30]\n",
    "values = [60, 100, 120]\n",
    "\n",
    "get_optimal_value(capacity, weight, values)"
   ]
  },
  {
   "cell_type": "code",
   "execution_count": 64,
   "metadata": {},
   "outputs": [
    {
     "data": {
      "text/plain": [
       "166.66666666666666"
      ]
     },
     "execution_count": 64,
     "metadata": {},
     "output_type": "execute_result"
    }
   ],
   "source": [
    "capacity = 10\n",
    "weight = [30]\n",
    "values = [500]\n",
    "\n",
    "get_optimal_value(capacity, weight, values)"
   ]
  },
  {
   "cell_type": "code",
   "execution_count": 65,
   "metadata": {},
   "outputs": [
    {
     "data": {
      "text/plain": [
       "500"
      ]
     },
     "execution_count": 65,
     "metadata": {},
     "output_type": "execute_result"
    }
   ],
   "source": [
    "capacity = 1000\n",
    "weight = [30]\n",
    "values = [500]\n",
    "\n",
    "get_optimal_value(capacity, weight, values)"
   ]
  },
  {
   "cell_type": "markdown",
   "metadata": {},
   "source": [
    "## Car Fueling"
   ]
  },
  {
   "cell_type": "markdown",
   "metadata": {},
   "source": [
    "### Problem Description"
   ]
  },
  {
   "cell_type": "markdown",
   "metadata": {},
   "source": [
    "* **Input Format** The first line contains an integer 𝑑. The second line contains an integer 𝑚. The third line\n",
    "specifies an integer 𝑛. Finally, the last line contains integers $stop_1, stop_2, \\cdots , stop_𝑛$.\n",
    "* **Output Format** Assuming that the distance between the cities is 𝑑 miles, a car can travel at most 𝑚 miles\n",
    "on a full tank, and there are gas stations at distances $stop_1, stop_2, \\cdots , stop_𝑛$ along the way, output the\n",
    "minimum number of refills needed. Assume that the car starts with a full tank. If it is not possible to\n",
    "reach the destination, output −1.\n",
    "* **Constraints** $1 \\le 𝑑 \\le 10^5; 1 \\le 𝑚 \\le 400; 1 \\le 𝑛 \\le 300; 0 < stop_1 < stop_2 < \\cdots < stop_𝑛 < 𝑑$"
   ]
  },
  {
   "cell_type": "code",
   "execution_count": 31,
   "metadata": {},
   "outputs": [],
   "source": [
    "def compute_min_refills(distance, tank, stops):\n",
    "    tank_refills = 0\n",
    "    stops =[0]  + stops + [distance]\n",
    "    distance_moved_in_tank = 0\n",
    "    distance_moved =0\n",
    "    for i in range(1,len(stops)-1):\n",
    "        print(f\"\\nAt stop {i+1}\")\n",
    "        distance_moved_in_tank += stops[i]\n",
    "        distance_moved += stops[i+1] - stops[i]\n",
    "        tank_remaining = tank - distance_moved_in_tank\n",
    "        if tank_remaining-stops[i+1] < 0:\n",
    "            tank_refills += 1\n",
    "            distance_moved_in_tank = 0\n",
    "            continue\n",
    "        else:\n",
    "            distance_moved_in_tank = 0\n",
    "    return tank_refills"
   ]
  },
  {
   "cell_type": "code",
   "execution_count": 32,
   "metadata": {},
   "outputs": [
    {
     "name": "stdout",
     "output_type": "stream",
     "text": [
      "\n",
      "At stop 2\n",
      "\n",
      "At stop 3\n",
      "\n",
      "At stop 4\n",
      "\n",
      "At stop 5\n"
     ]
    },
    {
     "data": {
      "text/plain": [
       "4"
      ]
     },
     "execution_count": 32,
     "metadata": {},
     "output_type": "execute_result"
    }
   ],
   "source": [
    "distance = 950\n",
    "tank = 400\n",
    "stops = [200, 375, 550, 750]\n",
    "compute_min_refills(distance, tank, stops)"
   ]
  },
  {
   "cell_type": "code",
   "execution_count": 26,
   "metadata": {},
   "outputs": [
    {
     "name": "stdout",
     "output_type": "stream",
     "text": [
      "\n",
      "At stop 1\n",
      "\n",
      "At stop 2\n",
      "\n",
      "At stop 3\n",
      "\n",
      "At stop 4\n",
      "\n",
      "At stop 5\n"
     ]
    },
    {
     "data": {
      "text/plain": [
       "-1"
      ]
     },
     "execution_count": 26,
     "metadata": {},
     "output_type": "execute_result"
    }
   ],
   "source": [
    "distance = 10\n",
    "tank = 3\n",
    "stops = [1, 2, 5, 9]\n",
    "compute_min_refills(distance, tank, stops)"
   ]
  },
  {
   "cell_type": "code",
   "execution_count": 23,
   "metadata": {},
   "outputs": [
    {
     "data": {
      "text/plain": [
       "-1"
      ]
     },
     "execution_count": 23,
     "metadata": {},
     "output_type": "execute_result"
    }
   ],
   "source": [
    "distance = 200\n",
    "tank = 250\n",
    "stops = [100, 150]\n",
    "compute_min_refills(distance, tank, stops)"
   ]
  },
  {
   "cell_type": "markdown",
   "metadata": {},
   "source": [
    "## Maximum Advertisement Revenue"
   ]
  },
  {
   "cell_type": "markdown",
   "metadata": {},
   "source": [
    "### Problem Description"
   ]
  },
  {
   "cell_type": "markdown",
   "metadata": {},
   "source": [
    "* **Task** Given two sequences $𝑎_1, 𝑎_2, \\cdots , 𝑎_𝑛$ ($𝑎_𝑖$ is the profit per click of the 𝑖-th ad) and $𝑏_1, 𝑏_2, \\cdots , 𝑏_𝑛$ ($𝑏_𝑖$ is\n",
    "the average number of clicks per day of the 𝑖-th slot), we need to partition them into 𝑛 pairs $(𝑎_𝑖, 𝑏_𝑗)$\n",
    "such that the sum of their products is maximized.\n",
    "* **Input Format** The first line contains an integer 𝑛, the second one contains a sequence of integers\n",
    "$𝑎_1, 𝑎_2, \\cdots , 𝑎_𝑛$, the third one contains a sequence of integers $𝑏_1, 𝑏_2, \\cdots , 𝑏_𝑛$.\n",
    "* **Constraints** $1 \\le 𝑛 \\le 10^3$; $−10^5 \\le 𝑎_𝑖$, $𝑏_𝑖 \\le 10^5$ for all $1 \\le 𝑖 \\le 𝑛$.\n",
    "* **Output Format** Output the maximum value of $\\sum_i^n 𝑎_𝑖𝑐_𝑖$, where $𝑐_1, 𝑐_2, \\cdots , 𝑐_𝑛$ is a permutation of\n",
    "$𝑏_1, 𝑏_2, \\cdots , 𝑏_𝑛$."
   ]
  },
  {
   "cell_type": "code",
   "execution_count": 40,
   "metadata": {},
   "outputs": [],
   "source": [
    "def max_dot_product(a, b):\n",
    "    a.sort()\n",
    "    b.sort()\n",
    "    multiple = [i*j for i, j in zip(a,b)]\n",
    "    return sum(multiple)"
   ]
  },
  {
   "cell_type": "code",
   "execution_count": 41,
   "metadata": {},
   "outputs": [
    {
     "data": {
      "text/plain": [
       "23"
      ]
     },
     "execution_count": 41,
     "metadata": {},
     "output_type": "execute_result"
    }
   ],
   "source": [
    "a = [1,3,-5]\n",
    "b = [-2, 4, 1]\n",
    "max_dot_product(a, b)"
   ]
  },
  {
   "cell_type": "markdown",
   "metadata": {},
   "source": [
    "## Collecting Signatures"
   ]
  },
  {
   "cell_type": "markdown",
   "metadata": {},
   "source": [
    "### Problem Description"
   ]
  },
  {
   "cell_type": "markdown",
   "metadata": {},
   "source": [
    "* **Task** Given a set of 𝑛 segments $\\{[𝑎_0, 𝑏_0], [𝑎_1, 𝑏_1], . . . , [𝑎_𝑛−1, 𝑏_𝑛−1]\\}$ with integer coordinates on a line, find\n",
    "the minimum number 𝑚 of points such that each segment contains at least one point. That is, find a\n",
    "set of integers 𝑋 of the minimum size such that for any segment $[𝑎_𝑖, 𝑏_𝑖]$ there is a point $𝑥 ∈ 𝑋$ such\n",
    "that $𝑎_𝑖 \\le 𝑥 \\le 𝑏_𝑖$.\n",
    "* **Input Format** The first line of the input contains the number 𝑛 of segments. Each of the following 𝑛 lines\n",
    "contains two integers 𝑎_𝑖 and 𝑏_𝑖 (separated by a space) defining the coordinates of endpoints of the 𝑖-th\n",
    "segment.\n",
    "* **Constraints** $1 \\le 𝑛 \\le 100; 0 \\le 𝑎_𝑖, \\le 𝑏_𝑖 \\le 10^9$ for all $0 \\le 𝑖 < 𝑛$.\n",
    "* **Output Format** Output the minimum number 𝑚 of points on the first line and the integer coordinates\n",
    "of 𝑚 points (separated by spaces) on the second line. You can output the points in any order. If there\n",
    "are many such sets of points, you can output any set. (It is not difficult to see that there always exist\n",
    "a set of points of the minimum size such that all the coordinates of the points are integers.)"
   ]
  },
  {
   "cell_type": "code",
   "execution_count": null,
   "metadata": {},
   "outputs": [],
   "source": [
    "def optimal_points(segments):\n",
    "    lenghts = []\n",
    "    \n",
    "    original_segment = segments\n",
    "    #Find length of all segments\n",
    "    for i, j in segments:\n",
    "        lenghts.append(j-i)\n",
    "    \n",
    "    while len(segments)!=0:\n",
    "        max_lenght = max(lenghts)\n",
    "        index = lenghts.index(max_lenght)\n",
    "        nums = list(range(segments[index][0], segments[index][1]))\n",
    "        segments.remove(segments[index])\n",
    "        lenghts.remove(max_lenght)\n",
    "\n",
    "        for num in nums:\n",
    "            for segment in segments:\n",
    "                if num in range(segment):\n",
    "                    segments.remove(segment)\n",
    "    pass"
   ]
  },
  {
   "cell_type": "markdown",
   "metadata": {},
   "source": [
    "## Maximum Number of Prizes"
   ]
  },
  {
   "cell_type": "markdown",
   "metadata": {},
   "source": [
    "### Problem Description"
   ]
  },
  {
   "cell_type": "markdown",
   "metadata": {},
   "source": [
    "* **Task** The goal of this problem is to represent a given positive integer 𝑛 as a sum of as many pairwise\n",
    "distinct positive integers as possible. That is, to find the maximum 𝑘 such that 𝑛 can be written as\n",
    "$𝑎_1 + 𝑎_2 + \\cdots + 𝑎_𝑘$ where $𝑎_1, \\cdots , 𝑎_𝑘$ are positive integers and $a_i \\neq a_j$ for all $1 \\le 𝑖 < 𝑗 \\le 𝑘$.\n",
    "* **Input Format** The input consists of a single integer 𝑛.\n",
    "* **Constraints** $1 \\le 𝑛 \\le 10^9$.\n",
    "* **Output Format** In the first line, output the maximum number 𝑘 such that 𝑛 can be represented as a sum\n",
    "of 𝑘 pairwise distinct positive integers. In the second line, output 𝑘 pairwise distinct positive integers\n",
    "that sum up to 𝑛 (if there are many such representations, output any of them)."
   ]
  },
  {
   "cell_type": "code",
   "execution_count": 121,
   "metadata": {},
   "outputs": [],
   "source": [
    "def optimal_summands(n):\n",
    "    if n==1:\n",
    "        return [1]\n",
    "    summands = []\n",
    "    n_cur = n\n",
    "    n_prev = n\n",
    "    for i in range(1, int(n/2)+2):\n",
    "        n_cur = n_prev - i\n",
    "\n",
    "        if n_cur-(i+1) < 0:\n",
    "            summands.append(n_prev)\n",
    "            break\n",
    "        n_prev = n_cur\n",
    "        if i not in summands[-4:]:\n",
    "            summands.append(i)\n",
    "        else:\n",
    "            break\n",
    "    assert sum(summands) == n\n",
    "    return summands"
   ]
  },
  {
   "cell_type": "code",
   "execution_count": 122,
   "metadata": {},
   "outputs": [
    {
     "data": {
      "text/plain": [
       "[1, 2]"
      ]
     },
     "execution_count": 122,
     "metadata": {},
     "output_type": "execute_result"
    }
   ],
   "source": [
    "optimal_summands(3)"
   ]
  },
  {
   "cell_type": "code",
   "execution_count": 123,
   "metadata": {},
   "outputs": [
    {
     "data": {
      "text/plain": [
       "[1, 2]"
      ]
     },
     "execution_count": 123,
     "metadata": {},
     "output_type": "execute_result"
    }
   ],
   "source": [
    "nums =[1,2]\n",
    "\n",
    "nums[-3:]"
   ]
  },
  {
   "cell_type": "code",
   "execution_count": 124,
   "metadata": {},
   "outputs": [],
   "source": [
    "import random"
   ]
  },
  {
   "cell_type": "code",
   "execution_count": 126,
   "metadata": {},
   "outputs": [],
   "source": [
    "\n",
    "for _ in range(100000):\n",
    "    num = random.randint(1, 1000)\n",
    "    # print(num)\n",
    "    optimal_summands(num)"
   ]
  },
  {
   "cell_type": "markdown",
   "metadata": {},
   "source": [
    "## Maximum Salary"
   ]
  },
  {
   "cell_type": "markdown",
   "metadata": {},
   "source": [
    "### Problem Description"
   ]
  },
  {
   "cell_type": "markdown",
   "metadata": {},
   "source": [
    "* **Task** Compose the largest number out of a set of integers.\n",
    "* **Input Format** The first line of the input contains an integer 𝑛. The second line contains integers\n",
    "$𝑎_1, 𝑎_2, \\cdots, 𝑎_𝑛$.\n",
    "* **Constraints** $1 \\le 𝑛 \\le 100$; $1 \\le 𝑎_𝑖 \\le 10^3$ for all $1 \\le 𝑖 \\le 𝑛$.\n",
    "* **Output Format** Output the largest number that can be composed out of $𝑎_1, 𝑎_2, \\cdots, 𝑎_𝑛$."
   ]
  },
  {
   "cell_type": "code",
   "execution_count": 5,
   "metadata": {},
   "outputs": [],
   "source": [
    "def largest_number(nums):\n",
    "    def key(x):\n",
    "        x = str(x)\n",
    "        if len(x) != 1:\n",
    "            return int(f\"{x}{'0'*(3-len(x))}\")\n",
    "        else:\n",
    "            return int(f\"{x}90\")\n",
    "\n",
    "    nums.sort(key=key, reverse=True)\n",
    "    return int(\"\".join(str(x) for x in nums))\n"
   ]
  },
  {
   "cell_type": "code",
   "execution_count": 6,
   "metadata": {},
   "outputs": [
    {
     "data": {
      "text/plain": [
       "221"
      ]
     },
     "execution_count": 6,
     "metadata": {},
     "output_type": "execute_result"
    }
   ],
   "source": [
    "largest_number([21, 2])"
   ]
  },
  {
   "cell_type": "code",
   "execution_count": 7,
   "metadata": {},
   "outputs": [
    {
     "data": {
      "text/plain": [
       "99641"
      ]
     },
     "execution_count": 7,
     "metadata": {},
     "output_type": "execute_result"
    }
   ],
   "source": [
    "largest_number([9, 4, 6, 1, 9])"
   ]
  },
  {
   "cell_type": "code",
   "execution_count": null,
   "metadata": {},
   "outputs": [],
   "source": []
  }
 ],
 "metadata": {
  "interpreter": {
   "hash": "de718a8ad747ee7ac49283422c9dd388de3f9fba8ab4214a5db121921f189761"
  },
  "kernelspec": {
   "display_name": "Python 3.9.12",
   "language": "python",
   "name": "python3"
  },
  "language_info": {
   "codemirror_mode": {
    "name": "ipython",
    "version": 3
   },
   "file_extension": ".py",
   "mimetype": "text/x-python",
   "name": "python",
   "nbconvert_exporter": "python",
   "pygments_lexer": "ipython3",
   "version": "3.9.12"
  },
  "orig_nbformat": 4
 },
 "nbformat": 4,
 "nbformat_minor": 2
}
