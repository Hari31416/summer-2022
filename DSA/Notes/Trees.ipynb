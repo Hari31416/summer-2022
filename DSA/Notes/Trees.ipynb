{
 "cells": [
  {
   "cell_type": "markdown",
   "metadata": {},
   "source": [
    "<h1 id=\"Contents\">Contents<a href=\"#Contents\"></a></h1>\n",
    "        <ol>\n",
    "        <li><a class=\"\" href=\"#Trees\">Trees</a></li>\n",
    "<ol><li><a class=\"\" href=\"#Formal-Tree-Definition\">Formal Tree Definition</a></li>\n",
    "<li><a class=\"\" href=\"#Properties\">Properties</a></li>\n",
    "<ol><li><a class=\"\" href=\"#Other-Node-Relationships\">Other Node Relationships</a></li>\n",
    "<li><a class=\"\" href=\"#Edges-and-Paths-in-Trees\">Edges and Paths in Trees</a></li>\n",
    "<li><a class=\"\" href=\"#Hierarchical-Class-Structure-in-Python\">Hierarchical Class Structure in Python</a></li>\n",
    "<li><a class=\"\" href=\"#Ordered-Trees\">Ordered Trees</a></li>\n",
    "<li><a class=\"\" href=\"#Depth-and-Height\">Depth and Height</a></li>\n",
    "</ol><li><a class=\"\" href=\"#The-Tree-Abstract-Data-Type\">The Tree Abstract Data Type</a></li>\n",
    "</ol><li><a class=\"\" href=\"#Binary-Trees\">Binary Trees</a></li>\n",
    "<ol><li><a class=\"\" href=\"#Properties-of-Binary-Trees\">Properties of Binary Trees</a></li>\n",
    "<ol><li><a class=\"\" href=\"#Examples\">Examples</a></li>\n",
    "<li><a class=\"\" href=\"#A-Recursive-Binary-Tree-Definition\">A Recursive Binary Tree Definition</a></li>\n",
    "<li><a class=\"\" href=\"#The-Binary-Tree-Abstract-Data-Type\">The Binary Tree Abstract Data Type</a></li>\n",
    "<li><a class=\"\" href=\"#Properties-of-Binary-Trees\">Properties of Binary Trees</a></li>\n",
    "</ol><li><a class=\"\" href=\"#Implementation-of-Binary-Trees\">Implementation of Binary Trees</a></li>\n",
    "<ol><li><a class=\"\" href=\"#Linked-Structure-for-Binary-Trees\">Linked Structure for Binary Trees</a></li>\n",
    "<li><a class=\"\" href=\"#Array-Based-Representation-of-a-Binary-Tree\">Array-Based Representation of a Binary Tree</a></li>\n",
    "</ol></ol><li><a class=\"\" href=\"#Tree-Traversal-Algorithms\">Tree Traversal Algorithms</a></li>\n",
    "</ol>"
   ]
  },
  {
   "cell_type": "markdown",
   "metadata": {},
   "source": [
    "# Trees"
   ]
  },
  {
   "cell_type": "markdown",
   "metadata": {},
   "source": [
    "A **tree** is an abstract data type that stores elements hierarchically. With the exception of the top element, each element in a tree has a **parent** element and zero or\n",
    "more **children** elements."
   ]
  },
  {
   "cell_type": "markdown",
   "metadata": {},
   "source": [
    "![](images/01_01.png)"
   ]
  },
  {
   "cell_type": "markdown",
   "metadata": {},
   "source": [
    "## Formal Tree Definition"
   ]
  },
  {
   "cell_type": "markdown",
   "metadata": {},
   "source": [
    "Formally, we define a **tree** T as a set of **nodes** storing elements such that the nodes\n",
    "have a **parent-child** relationship that satisfies the following properties:\n",
    "* If T is nonempty, it has a special node, called the **root** of T , that has no parent.\n",
    "* Each node v of T different from the root has a unique **parent** node w; every\n",
    "node with parent w is a **child** of w."
   ]
  },
  {
   "cell_type": "markdown",
   "metadata": {},
   "source": [
    "Note that according to our definition, a tree can be empty, meaning that it does not\n",
    "have any nodes. This convention also allows us to define a tree recursively such\n",
    "that a tree T is either empty or consists of a node r, called the root of T , and a\n",
    "(possibly empty) set of subtrees whose roots are the children of r."
   ]
  },
  {
   "cell_type": "markdown",
   "metadata": {},
   "source": [
    "## Properties"
   ]
  },
  {
   "cell_type": "markdown",
   "metadata": {},
   "source": [
    "### Other Node Relationships"
   ]
  },
  {
   "cell_type": "markdown",
   "metadata": {},
   "source": [
    "Two nodes that are children of the same parent are **siblings**. A node v is **external**\n",
    "if v has no children. A node v is **internal** if it has one or more children. External\n",
    "nodes are also known as **leaves**."
   ]
  },
  {
   "cell_type": "markdown",
   "metadata": {},
   "source": [
    "A node u is an **ancestor** of a node v if $u = v$ or u is an ancestor of the parent\n",
    "of v. Conversely, we say that a node v is a **descendant** of a node u if u is an ancestor\n",
    "of v. For example, in figure above, `cs252/` is an ancestor of `papers/`, and `pr3` is a\n",
    "descendant of `cs016/`. The **subtree** of T rooted at a node v is the tree consisting of\n",
    "all the descendants of v in T (including v itself). In figure above, the subtree rooted at\n",
    "`cs016/` consists of the nodes `cs016/, grades, homeworks/, programs/, hw1, hw2,\n",
    "hw3, pr1, pr2, and pr3`."
   ]
  },
  {
   "cell_type": "markdown",
   "metadata": {},
   "source": [
    "### Edges and Paths in Trees"
   ]
  },
  {
   "cell_type": "markdown",
   "metadata": {},
   "source": [
    "An **edge** of tree T is a pair of nodes (u,v) such that u is the parent of v, or vice\n",
    "versa. A **path** of T is a sequence of nodes such that any two consecutive nodes in\n",
    "the sequence form an edge. For example, the tree contains the path\n",
    "`(cs252/, projects/, demos/, market)`."
   ]
  },
  {
   "cell_type": "markdown",
   "metadata": {},
   "source": [
    "As for another example, see the figure below."
   ]
  },
  {
   "cell_type": "markdown",
   "metadata": {},
   "source": [
    "### Hierarchical Class Structure in Python"
   ]
  },
  {
   "cell_type": "markdown",
   "metadata": {},
   "source": [
    "![](images/01_02.png)"
   ]
  },
  {
   "cell_type": "markdown",
   "metadata": {},
   "source": [
    "In Python, all classes are organized into a single hierarchy, as there exists a\n",
    "built-in class named object as the ultimate base class. It is a direct or indirect base\n",
    "class of all other types in Python (even if not declared as such when defining a new\n",
    "class). Therefore, the hierarchy pictured in figure is only a portion of Python’s\n",
    "complete class hierarchy."
   ]
  },
  {
   "cell_type": "markdown",
   "metadata": {},
   "source": [
    "### Ordered Trees"
   ]
  },
  {
   "cell_type": "markdown",
   "metadata": {},
   "source": [
    "A tree is **ordered** if there is a meaningful linear order among the children of each\n",
    "node; that is, we purposefully identify the children of a node as being the first,\n",
    "second, third, and so on. Such an order is usually visualized by arranging siblings\n",
    "left to right, according to their order."
   ]
  },
  {
   "cell_type": "markdown",
   "metadata": {},
   "source": [
    "![](images/01_03.png)"
   ]
  },
  {
   "cell_type": "markdown",
   "metadata": {},
   "source": [
    "### Depth and Height"
   ]
  },
  {
   "cell_type": "markdown",
   "metadata": {},
   "source": [
    "Let p be the position of a node of a tree T . The **depth** of p is the number of\n",
    "ancestors of p, excluding p itself.\n",
    "* If p is the root, then the depth of p is 0.\n",
    "* Otherwise, the depth of p is one plus the depth of the parent of p."
   ]
  },
  {
   "cell_type": "markdown",
   "metadata": {},
   "source": [
    "The **height** of a position p in a tree T is also defined recursively:\n",
    "* If p is a leaf, then the height of p is 0.\n",
    "* Otherwise, the height of p is one more than the maximum of the heights of\n",
    "p’s children.\n",
    "\n",
    "The height of a nonempty tree T is the height of the root of T . "
   ]
  },
  {
   "cell_type": "markdown",
   "metadata": {},
   "source": [
    "## The Tree Abstract Data Type"
   ]
  },
  {
   "cell_type": "markdown",
   "metadata": {},
   "source": [
    "We define a tree ADT using the\n",
    "concept of a position as an abstraction for a node of a tree. An element is stored\n",
    "at each position, and positions satisfy parent-child relationships that define the tree\n",
    "structure. A position object for a tree supports the method:\n",
    "* `p.element()`: Return the element stored at position p."
   ]
  },
  {
   "cell_type": "markdown",
   "metadata": {},
   "source": [
    "The tree ADT then supports the following accessor methods, allowing a user to\n",
    "navigate the various positions of a tree:\n",
    "* `T.root()`: Return the position of the root of tree T,\n",
    "or `None` if T is empty.\n",
    "* `T.is_root(p)`: Return True if position p is the root of Tree T.\n",
    "* `T.parent(p)`: Return the position of the parent of position p,\n",
    "or `None` if p is the root of T.\n",
    "* `T.num_children(p)`: Return the number of children of position p.\n",
    "* `T.children(p)`: Generate an iteration of the children of position p.\n",
    "* `T.is_leaf(p)`: Return True if position p does not have any children.\n",
    "len(T)`: Return the number of positions (and hence elements) that\n",
    "are contained in tree T.\n",
    "* `T.is_empty()`: Return True if tree T does not contain any positions.\n",
    "* `T.positions()`: Generate an iteration of all positions of tree T.\n",
    "* `iter(T)`: Generate an iteration of all elements stored within tree T."
   ]
  },
  {
   "cell_type": "markdown",
   "metadata": {},
   "source": [
    "If a tree T is ordered, then `T.children(p)` reports the children of p in the natural\n",
    "order. If p is a leaf, then `T.children(p) ` generates an empty iteration. In similar\n",
    "regard, if tree T is empty, then both `T.positions()` and `iter(T)` generate empty iterations."
   ]
  },
  {
   "cell_type": "markdown",
   "metadata": {},
   "source": [
    "# Binary Trees"
   ]
  },
  {
   "cell_type": "markdown",
   "metadata": {},
   "source": [
    "A binary tree is an ordered tree with the following properties:\n",
    "1. Every node has at most two children.\n",
    "2. Each child node is labeled as being either a **left child** or a **right child**.\n",
    "3. A left child precedes a right child in the order of children of a node."
   ]
  },
  {
   "cell_type": "markdown",
   "metadata": {},
   "source": [
    "## Properties of Binary Trees"
   ]
  },
  {
   "cell_type": "markdown",
   "metadata": {},
   "source": [
    "### Examples"
   ]
  },
  {
   "cell_type": "markdown",
   "metadata": {},
   "source": [
    "1. An important class of binary trees arises in contexts where we wish\n",
    "to represent a number of different outcomes that can result from answering a series\n",
    "of yes-or-no questions. Each internal node is associated with a question. Starting at\n",
    "the root, we go to the left or right child of the current node, depending on whether\n",
    "the answer to the question is “Yes” or “No.” With each decision, we follow an\n",
    "edge from a parent to a child, eventually tracing a path in the tree from the root\n",
    "to a leaf. Such binary trees are known as decision trees, because a leaf position p\n",
    "in such a tree represents a decision of what to do if the questions associated with\n",
    "p’s ancestors are answered in a way that leads to p. A decision tree is a proper\n",
    "binary tree. "
   ]
  },
  {
   "cell_type": "markdown",
   "metadata": {},
   "source": [
    "![](images/01_04.png)"
   ]
  },
  {
   "cell_type": "markdown",
   "metadata": {},
   "source": [
    "2. An arithmetic expression can be represented by a binary tree whose\n",
    "leaves are associated with variables or constants, and whose internal nodes are\n",
    "associated with one of the operators +, −, ×, and /. Each node\n",
    "in such a tree has a value associated with it.\n",
    "   * If a node is leaf, then its value is that of its variable or constant.\n",
    "   * If a node is internal, then its value is defined by applying its operation to the\n",
    "   values of its children. "
   ]
  },
  {
   "cell_type": "markdown",
   "metadata": {},
   "source": [
    "![](images/01_05.png)"
   ]
  },
  {
   "cell_type": "markdown",
   "metadata": {},
   "source": [
    "### A Recursive Binary Tree Definition"
   ]
  },
  {
   "cell_type": "markdown",
   "metadata": {},
   "source": [
    "We can also define a binary tree in a recursive way such that a binary\n",
    "tree is either empty or consists of:\n",
    "* A node r, called the root of T , that stores an element\n",
    "* A binary tree (possibly empty), called the left subtree of T\n",
    "* A binary tree (possibly empty), called the right subtree of T"
   ]
  },
  {
   "cell_type": "markdown",
   "metadata": {},
   "source": [
    "### The Binary Tree Abstract Data Type"
   ]
  },
  {
   "cell_type": "markdown",
   "metadata": {},
   "source": [
    "As an abstract data type, a binary tree is a specialization of a tree that supports three\n",
    "additional accessor methods:\n",
    "* `T.left(p)`: Return the position that represents the left child of p,\n",
    "or `None` if p has no left child.\n",
    "* `T.right(p)`: Return the position that represents the right child of p,\n",
    "or `None` if p has no right child.\n",
    "* `T.sibling(p)`: Return the position that represents the sibling of p,\n",
    "or `None` if p has no sibling."
   ]
  },
  {
   "cell_type": "markdown",
   "metadata": {},
   "source": [
    "### Properties of Binary Trees"
   ]
  },
  {
   "cell_type": "markdown",
   "metadata": {},
   "source": [
    "Binary trees have several interesting properties dealing with relationships between\n",
    "their heights and number of nodes. We denote the set of all nodes of a tree T at the\n",
    "same depth d as **level** d of T . In a binary tree, level 0 has at most one node (the\n",
    "root), level 1 has at most two nodes (the children of the root), level 2 has at most\n",
    "four nodes, and so on. In general, level d has at most $2^d$ nodes."
   ]
  },
  {
   "cell_type": "markdown",
   "metadata": {},
   "source": [
    "Let T be a nonempty binary tree, and let $n, n_E, n_I$ and $h$ denote\n",
    "the number of nodes, number of external nodes, number of internal nodes, and\n",
    "height of T , respectively. Then T has the following properties:\n",
    "1. $h+1 \\le n \\le 2^{h+1}-1$\n",
    "2. $1 \\le n_E \\le 2^h$\n",
    "3. $h \\le n_I \\le 2^h -1$\n",
    "4. $\\log{(n+1)}-1 \\le h \\le n-1$\n",
    "5. $n_E = n_I+1$"
   ]
  },
  {
   "cell_type": "markdown",
   "metadata": {},
   "source": [
    "## Implementation of Binary Trees"
   ]
  },
  {
   "cell_type": "markdown",
   "metadata": {},
   "source": [
    "### Linked Structure for Binary Trees"
   ]
  },
  {
   "cell_type": "markdown",
   "metadata": {},
   "source": [
    "A natural way to realize a binary tree T is to use a linked structure, with a node that maintains references to the element stored at a position p\n",
    "and to the nodes associated with the children and parent of p. If p is the root of\n",
    "T , then the parent field of p is `None`. Likewise, if p does not have a left child\n",
    "(respectively, right child), the associated field is `None`. The tree itself maintains an\n",
    "instance variable storing a reference to the root node (if any), and a variable, called\n",
    "size, that represents the overall number of nodes of T . "
   ]
  },
  {
   "cell_type": "markdown",
   "metadata": {},
   "source": [
    "![](images/01_06.png)"
   ]
  },
  {
   "cell_type": "markdown",
   "metadata": {},
   "source": [
    "### Array-Based Representation of a Binary Tree"
   ]
  },
  {
   "cell_type": "markdown",
   "metadata": {},
   "source": [
    "An alternative representation of a binary tree T is based on a way of numbering the\n",
    "positions of T . For every position p of T , let $f(p)$ be the integer defined as follows.\n",
    "* If p is the root of T , then $f (p) = 0$.\n",
    "* If p is the left child of position q, then $f (p) = 2 f (q) + 1$.\n",
    "* If p is the right child of position q, then $f (p) = 2 f (q) + 2$."
   ]
  },
  {
   "cell_type": "markdown",
   "metadata": {},
   "source": [
    "The numbering function f is known as a level numbering of the positions in a\n",
    "binary tree T , for it numbers the positions on each level of T in increasing order\n",
    "from left to right. Note well that the level numbering is based\n",
    "on potential positions within the tree, not actual positions of a given tree, so they\n",
    "are not necessarily consecutive. For example, in Figure (b), there are no nodes\n",
    "with level numbering 13 or 14, because the node with level numbering 6 has no\n",
    "children."
   ]
  },
  {
   "cell_type": "markdown",
   "metadata": {},
   "source": [
    "![](images/01_07.png)"
   ]
  },
  {
   "cell_type": "markdown",
   "metadata": {},
   "source": [
    "One advantage of an array-based representation of a binary tree is that a position p can be represented by the single integer f (p), and that position-based methods such as root, parent, left, and right can be implemented using simple arithmetic\n",
    "operations on the number f (p). Based on our formula for the level numbering, the\n",
    "left child of p has index $2 f (p) + 1$, the right child of p has index $2 f (p) + 2$, and\n",
    "the parent of p has index $\\text{floor}( f (p)− 1)/2$."
   ]
  },
  {
   "cell_type": "markdown",
   "metadata": {},
   "source": [
    "# Tree Traversal Algorithms"
   ]
  },
  {
   "cell_type": "markdown",
   "metadata": {},
   "source": [
    "A **traversal** of a tree T is a systematic way of accessing, or “visiting,” all the positions of T . The specific action associated with the “visit” of a position p depends\n",
    "on the application of this traversal, and could involve anything from incrementing a counter to performing some complex computation for p."
   ]
  }
 ],
 "metadata": {
  "kernelspec": {
   "display_name": "Python 3.8.5",
   "language": "python",
   "name": "python3"
  },
  "language_info": {
   "name": "python",
   "version": "3.8.5"
  },
  "orig_nbformat": 4,
  "vscode": {
   "interpreter": {
    "hash": "98a06921e42c4ae689d578665f28201be7cad9b45c4149f8887161f1353af971"
   }
  }
 },
 "nbformat": 4,
 "nbformat_minor": 2
}
