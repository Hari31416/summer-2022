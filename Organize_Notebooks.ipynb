{
 "cells": [
  {
   "cell_type": "markdown",
   "metadata": {},
   "source": [
    "<table class=\"tfo-notebook-buttons\" align=\"left\">\n",
    "<td style=\"border: none;\">\n",
    "<a target=\"blank\" href=\"https://colab.research.google.com/github/Hari31416/Data-Sciences/blob/main/Notes/DLS/Oragnize_Notebooks.ipynb?hl=en\"><img src=\"https://colab.research.google.com/img/colab_favicon_256px.png\" width=\"28\" height=\"28\"/>Run on Google Colab</a></td>\n",
    "<td style=\"border: none;\">\n",
    "<a target=\"blank\" href=\"https://github.com/Hari31416/Data-Sciences/blob/main/Notes/DLS/Oragnize_Notebooks.ipynb\"><img src=\"https://cdn.icon-icons.com/icons2/2368/PNG/512/github_logo_icon_143772.png\" width=\"28\" height=\"28\"/>View on Github</a></td>\n",
    "</table>"
   ]
  },
  {
   "cell_type": "markdown",
   "metadata": {},
   "source": [
    "### Removing whitespace"
   ]
  },
  {
   "cell_type": "code",
   "execution_count": 1,
   "metadata": {},
   "outputs": [],
   "source": [
    "from life_saving_tools.files import Files\n",
    "import os\n",
    "f = Files.FileOrganizer(\"C5\")"
   ]
  },
  {
   "cell_type": "code",
   "execution_count": 2,
   "metadata": {},
   "outputs": [
    {
     "data": {
      "text/plain": [
       "'c:\\\\Users\\\\harik\\\\Desktop\\\\Data-Sciences\\\\Notes\\\\DLS'"
      ]
     },
     "execution_count": 2,
     "metadata": {},
     "output_type": "execute_result"
    }
   ],
   "source": [
    "%pwd"
   ]
  },
  {
   "cell_type": "code",
   "execution_count": 6,
   "metadata": {},
   "outputs": [
    {
     "name": "stdout",
     "output_type": "stream",
     "text": [
      "Please provide a list of formats or a category\n"
     ]
    }
   ],
   "source": [
    "f.remove_spaces(all = False)"
   ]
  },
  {
   "cell_type": "markdown",
   "metadata": {},
   "source": [
    "### Adding Github and Colab links to the files"
   ]
  },
  {
   "cell_type": "code",
   "execution_count": 4,
   "metadata": {},
   "outputs": [],
   "source": [
    "import pyperclip\n",
    "file_path = pyperclip.paste()\n",
    "file_path = file_path.replace(\"\\\\\", \"/\")\n",
    "\n",
    "text = f\"\"\"<table class='tfo-notebook-buttons' align='left'>\n",
    "<td style='border: none;'>\n",
    "<a target='blank' href='https://colab.research.google.com/github/Hari31416/Data-Sciences/blob/main/Notes/DLS/{file_path}?hl=en'><img src='https://colab.research.google.com/img/colab_favicon_256px.png' width='28' height='28'/>Run on Google Colab</a></td>\n",
    "<td style='border: none;'>\n",
    "<a target='blank' href='https://github.com/Hari31416/Data-Sciences/blob/main/Notes/DLS/{file_path}'><img src='https://cdn.icon-icons.com/icons2/2368/PNG/512/github_logo_icon_143772.png' width='28' height='28'/>View on Github</a></td>\n",
    "</table>\"\"\"\n",
    "\n",
    "pyperclip.copy(text)"
   ]
  },
  {
   "cell_type": "markdown",
   "metadata": {},
   "source": [
    "### Converting the notes to HTML"
   ]
  },
  {
   "cell_type": "code",
   "execution_count": 1,
   "metadata": {},
   "outputs": [],
   "source": [
    "from life_saving_tools.files.notebook import Notebook\n",
    "import os\n",
    "f = Notebook(os.curdir)"
   ]
  },
  {
   "cell_type": "code",
   "execution_count": 8,
   "metadata": {},
   "outputs": [
    {
     "name": "stdout",
     "output_type": "stream",
     "text": [
      "Converting Classification.ipynb\n",
      "Converting Linear_Model_Selection_and_Regularization.ipynb\n",
      "Converting Linear_Regression.ipynb\n",
      "Converting Moving_Beyond_Linearity.ipynb\n",
      "Converting Resampling_Methods.ipynb\n",
      "Converting Support_Vector_Machine.ipynb\n",
      "Converting Tree_Based_Methods.ipynb\n",
      "Converting Unsupervised_Learning.ipynb\n"
     ]
    }
   ],
   "source": [
    "outputs = []\n",
    "for folder, _, files in os.walk(\"ISLR\"):\n",
    "    for file in files:\n",
    "        if file.endswith('.ipynb'):\n",
    "            file_path = os.path.join(folder, file)\n",
    "            if \".ipynb_checkpoints\" in file_path:\n",
    "                continue\n",
    "            if \"temp.ipynb\" in file_path:\n",
    "                continue\n",
    "            print(f\"Converting {file}\")\n",
    "            try:\n",
    "                output = f.export_notebook(file_path)\n",
    "                outputs.append(output)\n",
    "            except Exception as e:\n",
    "                print(f\"Error converting {file}\")\n",
    "                print(e)"
   ]
  },
  {
   "cell_type": "code",
   "execution_count": null,
   "metadata": {},
   "outputs": [],
   "source": [
    "f.export_notebook()"
   ]
  },
  {
   "cell_type": "markdown",
   "metadata": {},
   "source": [
    "### Adding them to index.html"
   ]
  },
  {
   "cell_type": "code",
   "execution_count": 9,
   "metadata": {},
   "outputs": [
    {
     "data": {
      "text/plain": [
       "['ISLR\\\\Classification.html',\n",
       " 'ISLR\\\\Linear_Model_Selection_and_Regularization.html',\n",
       " 'ISLR\\\\Linear_Regression.html',\n",
       " 'ISLR\\\\Moving_Beyond_Linearity.html',\n",
       " 'ISLR\\\\Resampling_Methods.html',\n",
       " 'ISLR\\\\Support_Vector_Machine.html',\n",
       " 'ISLR\\\\Tree_Based_Methods.html',\n",
       " 'ISLR\\\\Unsupervised_Learning.html']"
      ]
     },
     "execution_count": 9,
     "metadata": {},
     "output_type": "execute_result"
    }
   ],
   "source": [
    "outputs"
   ]
  },
  {
   "cell_type": "code",
   "execution_count": 10,
   "metadata": {},
   "outputs": [
    {
     "name": "stdout",
     "output_type": "stream",
     "text": [
      "<li>\n",
      "        <a href=\"ISLR/Classification.html\" target = 'blank' class = 'links'>Classification</a>\n",
      "        </li>\n",
      "        <li>\n",
      "        <a href=\"ISLR/Linear_Model_Selection_and_Regularization.html\" target = 'blank' class = 'links'>Linear Model Selection And Regularization</a>\n",
      "        </li>\n",
      "        <li>\n",
      "        <a href=\"ISLR/Linear_Regression.html\" target = 'blank' class = 'links'>Linear Regression</a>\n",
      "        </li>\n",
      "        <li>\n",
      "        <a href=\"ISLR/Moving_Beyond_Linearity.html\" target = 'blank' class = 'links'>Moving Beyond Linearity</a>\n",
      "        </li>\n",
      "        <li>\n",
      "        <a href=\"ISLR/Resampling_Methods.html\" target = 'blank' class = 'links'>Resampling Methods</a>\n",
      "        </li>\n",
      "        <li>\n",
      "        <a href=\"ISLR/Support_Vector_Machine.html\" target = 'blank' class = 'links'>Support Vector Machine</a>\n",
      "        </li>\n",
      "        <li>\n",
      "        <a href=\"ISLR/Tree_Based_Methods.html\" target = 'blank' class = 'links'>Tree Based Methods</a>\n",
      "        </li>\n",
      "        <li>\n",
      "        <a href=\"ISLR/Unsupervised_Learning.html\" target = 'blank' class = 'links'>Unsupervised Learning</a>\n",
      "        </li>\n",
      "        \n"
     ]
    }
   ],
   "source": [
    "string = ''\n",
    "for file_path in outputs:\n",
    "    final_path = '/'.join(file_path.split(\"\\\\\")[1:])\n",
    "    if \".ipynb_checkpoints\" in final_path:\n",
    "        pass\n",
    "    else:\n",
    "        title = final_path.split(\"/\")[-1]\n",
    "        title = title.split(\".\")[0]\n",
    "        title = title.replace(\"_\", \" \").title()\n",
    "        txt = f\"\"\"<li>\n",
    "        <a href=\"ISLR/{final_path}\" target = 'blank' class = 'links'>{title}</a>\n",
    "        </li>\n",
    "        \"\"\"\n",
    "        string += txt\n",
    "\n",
    "print(string)"
   ]
  },
  {
   "cell_type": "code",
   "execution_count": 11,
   "metadata": {},
   "outputs": [],
   "source": [
    "import pyperclip\n",
    "pyperclip.copy(string)"
   ]
  },
  {
   "cell_type": "code",
   "execution_count": null,
   "metadata": {},
   "outputs": [],
   "source": []
  }
 ],
 "metadata": {
  "interpreter": {
   "hash": "21040c1b576dca9f4f330277849b9f4819256d524dee23c2b89e431027dafe11"
  },
  "kernelspec": {
   "display_name": "Python 3.8.5",
   "language": "python",
   "name": "python3"
  },
  "language_info": {
   "codemirror_mode": {
    "name": "ipython",
    "version": 3
   },
   "file_extension": ".py",
   "mimetype": "text/x-python",
   "name": "python",
   "nbconvert_exporter": "python",
   "pygments_lexer": "ipython3",
   "version": "3.8.5"
  },
  "orig_nbformat": 4
 },
 "nbformat": 4,
 "nbformat_minor": 2
}
