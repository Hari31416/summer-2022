{
 "cells": [
  {
   "cell_type": "markdown",
   "metadata": {},
   "source": [
    "<table class=\"tfo-notebook-buttons\" align=\"left\">\n",
    "<td style=\"border: none;\">\n",
    "<a target=\"blank\" href=\"https://colab.research.google.com/github/Hari31416/Data-Sciences/blob/main/Notes/DLS/Oragnize_Notebooks.ipynb?hl=en\"><img src=\"https://colab.research.google.com/img/colab_favicon_256px.png\" width=\"28\" height=\"28\"/>Run on Google Colab</a></td>\n",
    "<td style=\"border: none;\">\n",
    "<a target=\"blank\" href=\"https://github.com/Hari31416/Data-Sciences/blob/main/Notes/DLS/Oragnize_Notebooks.ipynb\"><img src=\"https://cdn.icon-icons.com/icons2/2368/PNG/512/github_logo_icon_143772.png\" width=\"28\" height=\"28\"/>View on Github</a></td>\n",
    "</table>"
   ]
  },
  {
   "cell_type": "markdown",
   "metadata": {},
   "source": [
    "### Removing whitespace"
   ]
  },
  {
   "cell_type": "code",
   "execution_count": null,
   "metadata": {},
   "outputs": [],
   "source": [
    "from life_saving_tools.files import Files\n",
    "import os\n",
    "f = Files.FileOrganizer(\"C5\")"
   ]
  },
  {
   "cell_type": "code",
   "execution_count": 2,
   "metadata": {},
   "outputs": [
    {
     "data": {
      "text/plain": [
       "'c:\\\\Users\\\\harik\\\\Desktop\\\\Data-Sciences\\\\Notes\\\\DLS'"
      ]
     },
     "execution_count": 2,
     "metadata": {},
     "output_type": "execute_result"
    }
   ],
   "source": [
    "%pwd"
   ]
  },
  {
   "cell_type": "code",
   "execution_count": 6,
   "metadata": {},
   "outputs": [
    {
     "name": "stdout",
     "output_type": "stream",
     "text": [
      "Please provide a list of formats or a category\n"
     ]
    }
   ],
   "source": [
    "f.remove_spaces(all = False)"
   ]
  },
  {
   "cell_type": "markdown",
   "metadata": {},
   "source": [
    "### Adding Github and Colab links to the files"
   ]
  },
  {
   "cell_type": "code",
   "execution_count": 4,
   "metadata": {},
   "outputs": [],
   "source": [
    "import pyperclip\n",
    "file_path = pyperclip.paste()\n",
    "file_path = file_path.replace(\"\\\\\", \"/\")\n",
    "\n",
    "text = f\"\"\"<table class='tfo-notebook-buttons' align='left'>\n",
    "<td style='border: none;'>\n",
    "<a target='blank' href='https://colab.research.google.com/github/Hari31416/Data-Sciences/blob/main/Notes/DLS/{file_path}?hl=en'><img src='https://colab.research.google.com/img/colab_favicon_256px.png' width='28' height='28'/>Run on Google Colab</a></td>\n",
    "<td style='border: none;'>\n",
    "<a target='blank' href='https://github.com/Hari31416/Data-Sciences/blob/main/Notes/DLS/{file_path}'><img src='https://cdn.icon-icons.com/icons2/2368/PNG/512/github_logo_icon_143772.png' width='28' height='28'/>View on Github</a></td>\n",
    "</table>\"\"\"\n",
    "\n",
    "pyperclip.copy(text)"
   ]
  },
  {
   "cell_type": "markdown",
   "metadata": {},
   "source": [
    "### Converting the notes to HTML"
   ]
  },
  {
   "cell_type": "code",
   "execution_count": 2,
   "metadata": {},
   "outputs": [],
   "source": [
    "from life_saving_tools.files.notebook import Notebook\n",
    "import os\n",
    "f = Notebook(os.curdir)"
   ]
  },
  {
   "cell_type": "code",
   "execution_count": 3,
   "metadata": {},
   "outputs": [
    {
     "name": "stdout",
     "output_type": "stream",
     "text": [
      "Converting Clustering.ipynb\n",
      "Converting Decision_Trees.ipynb\n",
      "Converting Ensemble_Learning.ipynb\n",
      "Converting Feature_Selection.ipynb\n",
      "Converting Linear_Regression.ipynb\n",
      "Converting Logistic_Regression.ipynb\n",
      "Converting Multiclass_Multioutput_Algorithm.ipynb\n",
      "Converting Nearest_Neighbors.ipynb\n",
      "Converting Stochastic_Gradient_Descent.ipynb\n",
      "Converting Support_Vector_Machine.ipynb\n"
     ]
    }
   ],
   "source": [
    "outputs = []\n",
    "for folder, _, files in os.walk(\"ML_Algorithms\"):\n",
    "    for file in files:\n",
    "        if file.endswith('.ipynb'):\n",
    "            file_path = os.path.join(folder, file)\n",
    "            if \".ipynb_checkpoints\" in file_path:\n",
    "                continue\n",
    "            if \"temp.ipynb\" in file_path:\n",
    "                continue\n",
    "            print(f\"Converting {file}\")\n",
    "            try:\n",
    "                output = f.export_notebook(file_path)\n",
    "                outputs.append(output)\n",
    "            except Exception as e:\n",
    "                print(f\"Error converting {file}\")\n",
    "                print(e)"
   ]
  },
  {
   "cell_type": "code",
   "execution_count": null,
   "metadata": {},
   "outputs": [],
   "source": [
    "f.export_notebook()"
   ]
  },
  {
   "cell_type": "markdown",
   "metadata": {},
   "source": [
    "### Adding them to index.html"
   ]
  },
  {
   "cell_type": "code",
   "execution_count": 4,
   "metadata": {},
   "outputs": [
    {
     "data": {
      "text/plain": [
       "['ML_Algorithms\\\\Clustering.html',\n",
       " 'ML_Algorithms\\\\Decision_Trees.html',\n",
       " 'ML_Algorithms\\\\Ensemble_Learning.html',\n",
       " 'ML_Algorithms\\\\Feature_Selection.html',\n",
       " 'ML_Algorithms\\\\Linear_Regression.html',\n",
       " 'ML_Algorithms\\\\Logistic_Regression.html',\n",
       " 'ML_Algorithms\\\\Multiclass_Multioutput_Algorithm.html',\n",
       " 'ML_Algorithms\\\\Nearest_Neighbors.html',\n",
       " 'ML_Algorithms\\\\Stochastic_Gradient_Descent.html',\n",
       " 'ML_Algorithms\\\\Support_Vector_Machine.html']"
      ]
     },
     "execution_count": 4,
     "metadata": {},
     "output_type": "execute_result"
    }
   ],
   "source": [
    "outputs"
   ]
  },
  {
   "cell_type": "code",
   "execution_count": 5,
   "metadata": {},
   "outputs": [
    {
     "name": "stdout",
     "output_type": "stream",
     "text": [
      "<li>\n",
      "        <a href=\"ML_Algorithms/Clustering.html\" target = 'blank' class = 'links'>Clustering</a>\n",
      "        </li>\n",
      "        <li>\n",
      "        <a href=\"ML_Algorithms/Decision_Trees.html\" target = 'blank' class = 'links'>Decision Trees</a>\n",
      "        </li>\n",
      "        <li>\n",
      "        <a href=\"ML_Algorithms/Ensemble_Learning.html\" target = 'blank' class = 'links'>Ensemble Learning</a>\n",
      "        </li>\n",
      "        <li>\n",
      "        <a href=\"ML_Algorithms/Feature_Selection.html\" target = 'blank' class = 'links'>Feature Selection</a>\n",
      "        </li>\n",
      "        <li>\n",
      "        <a href=\"ML_Algorithms/Linear_Regression.html\" target = 'blank' class = 'links'>Linear Regression</a>\n",
      "        </li>\n",
      "        <li>\n",
      "        <a href=\"ML_Algorithms/Logistic_Regression.html\" target = 'blank' class = 'links'>Logistic Regression</a>\n",
      "        </li>\n",
      "        <li>\n",
      "        <a href=\"ML_Algorithms/Multiclass_Multioutput_Algorithm.html\" target = 'blank' class = 'links'>Multiclass Multioutput Algorithm</a>\n",
      "        </li>\n",
      "        <li>\n",
      "        <a href=\"ML_Algorithms/Nearest_Neighbors.html\" target = 'blank' class = 'links'>Nearest Neighbors</a>\n",
      "        </li>\n",
      "        <li>\n",
      "        <a href=\"ML_Algorithms/Stochastic_Gradient_Descent.html\" target = 'blank' class = 'links'>Stochastic Gradient Descent</a>\n",
      "        </li>\n",
      "        <li>\n",
      "        <a href=\"ML_Algorithms/Support_Vector_Machine.html\" target = 'blank' class = 'links'>Support Vector Machine</a>\n",
      "        </li>\n",
      "        \n"
     ]
    }
   ],
   "source": [
    "string = ''\n",
    "for file_path in outputs:\n",
    "    final_path = '/'.join(file_path.split(\"\\\\\")[1:])\n",
    "    if \".ipynb_checkpoints\" in final_path:\n",
    "        pass\n",
    "    else:\n",
    "        title = final_path.split(\"/\")[-1]\n",
    "        title = title.split(\".\")[0]\n",
    "        title = title.replace(\"_\", \" \").title()\n",
    "        txt = f\"\"\"<li>\n",
    "        <a href=\"ML_Algorithms/{final_path}\" target = 'blank' class = 'links'>{title}</a>\n",
    "        </li>\n",
    "        \"\"\"\n",
    "        string += txt\n",
    "\n",
    "print(string)"
   ]
  },
  {
   "cell_type": "code",
   "execution_count": 6,
   "metadata": {},
   "outputs": [],
   "source": [
    "import pyperclip\n",
    "pyperclip.copy(string)"
   ]
  },
  {
   "cell_type": "code",
   "execution_count": null,
   "metadata": {},
   "outputs": [],
   "source": []
  }
 ],
 "metadata": {
  "kernelspec": {
   "display_name": "Python 3.9.12",
   "language": "python",
   "name": "python3"
  },
  "language_info": {
   "codemirror_mode": {
    "name": "ipython",
    "version": 3
   },
   "file_extension": ".py",
   "mimetype": "text/x-python",
   "name": "python",
   "nbconvert_exporter": "python",
   "pygments_lexer": "ipython3",
   "version": "3.9.12"
  },
  "orig_nbformat": 4,
  "vscode": {
   "interpreter": {
    "hash": "de718a8ad747ee7ac49283422c9dd388de3f9fba8ab4214a5db121921f189761"
   }
  }
 },
 "nbformat": 4,
 "nbformat_minor": 2
}
