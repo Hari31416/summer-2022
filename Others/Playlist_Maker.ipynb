{
 "cells": [
  {
   "cell_type": "markdown",
   "metadata": {},
   "source": [
    "# Overview"
   ]
  },
  {
   "cell_type": "markdown",
   "metadata": {},
   "source": [
    "The idea is to make a simple app which can be used to create playlists for Spotify which is less annoying. Here is a brief overview of the app."
   ]
  },
  {
   "cell_type": "markdown",
   "metadata": {},
   "source": [
    "1. Let the user make new playlists by using songs from existing playlist(s)."
   ]
  },
  {
   "cell_type": "markdown",
   "metadata": {},
   "source": [
    "We'll be using classes for this. The classes necessary are:\n",
    "1. The `User` class modeling the user.\n",
    "2. The `Playlist` class modeling the playlist.\n",
    "3. The `Song` class modeling the song."
   ]
  },
  {
   "cell_type": "markdown",
   "metadata": {},
   "source": [
    "## Attributes and Methods of the Classes"
   ]
  },
  {
   "cell_type": "markdown",
   "metadata": {},
   "source": [
    "The `User` class has the following attributes:\n",
    "1. `name`: The name of the user.\n",
    "2. `id`: The id of the user.\n",
    "3. `playlists`: A list of `Playlist` objects.\n",
    "   \n",
    "The class should also have the following methods:\n",
    "1. `add_playlist`: Add a new playlist to the user."
   ]
  },
  {
   "cell_type": "markdown",
   "metadata": {},
   "source": [
    "The `Playlist` class should have the following attributes:\n",
    "1. `name`: The name of the playlist.\n",
    "2. `id`: The id\n",
    "3. `length`: Number of songs in the playlist.\n",
    "\n",
    "The class should also have the methods:\n",
    "1. `add_songs`: Adds new songs.\n",
    "2. `remove_songs`: Removes songs."
   ]
  },
  {
   "cell_type": "markdown",
   "metadata": {},
   "source": [
    "Meanwhile, the `Song` class have the attributes:\n",
    "1. `name`: The name of the song\n",
    "2. `id`: id of the song\n",
    "3. `length`: Duration\n",
    "4. `artists`: Artist\n",
    "\n",
    "The class has a single method:\n",
    "1. `runtime`: Converts the length to mm:ss"
   ]
  },
  {
   "cell_type": "markdown",
   "metadata": {},
   "source": [
    "# Authentication"
   ]
  },
  {
   "cell_type": "code",
   "execution_count": 145,
   "metadata": {},
   "outputs": [],
   "source": [
    "import spotipy\n",
    "from decouple import config"
   ]
  },
  {
   "cell_type": "code",
   "execution_count": 154,
   "metadata": {},
   "outputs": [],
   "source": [
    "token = spotipy.util.prompt_for_user_token(client_id= config(\"SPOTIFYID\"), client_secret= config(\"SPOTIFYPASSWORD\"), redirect_uri='http://mysite.com/callback/', \n",
    "    scope='playlist-read-private user-modify-playback-state playlist-modify-public user-read-recently-played')\n",
    "sp = spotipy.Spotify(auth=token)"
   ]
  },
  {
   "cell_type": "code",
   "execution_count": 147,
   "metadata": {},
   "outputs": [],
   "source": [
    "USER = \"392uowv8fh00b9ie6ccn9cegs\""
   ]
  },
  {
   "cell_type": "markdown",
   "metadata": {},
   "source": [
    "# Some Classes"
   ]
  },
  {
   "cell_type": "markdown",
   "metadata": {},
   "source": [
    "## User"
   ]
  },
  {
   "cell_type": "code",
   "execution_count": 90,
   "metadata": {},
   "outputs": [],
   "source": [
    "class User:\n",
    "    def __init__(self, name, id):\n",
    "        self.name = name\n",
    "        self.id = id\n",
    "\n",
    "    def __str__(self):\n",
    "        return self.name\n",
    "        \n",
    "    @property\n",
    "    def playlists(self):\n",
    "        playlists = []\n",
    "        offset = 0\n",
    "        while True:\n",
    "            results = sp.current_user_playlists(offset=offset)\n",
    "            for playlist in results[\"items\"]:\n",
    "                playlists.append(Playlist(playlist[\"name\"], playlist[\"uri\"], playlist[\"tracks\"][\"total\"]))\n",
    "            offset += len(results[\"items\"])\n",
    "            if offset >= results[\"total\"]:\n",
    "                break\n",
    "        return playlists\n",
    "\n",
    "    def create_playlist(self, name, public = True):\n",
    "        new_pl = sp.user_playlist_create(self.id, name, public)\n",
    "        return Playlist(name, new_pl[\"uri\"], 0)"
   ]
  },
  {
   "cell_type": "markdown",
   "metadata": {},
   "source": [
    "## Song"
   ]
  },
  {
   "cell_type": "code",
   "execution_count": 52,
   "metadata": {},
   "outputs": [],
   "source": [
    "class Song:\n",
    "    def __init__(self, name, id, artist, duration):\n",
    "        self.name = name\n",
    "        self.id = id\n",
    "        self.artist = artist\n",
    "        self.duration = duration\n",
    "    def __str__(self):\n",
    "        return self.name + \" by \" + self.artist\n",
    "\n",
    "    def __len__(self):\n",
    "        return self.duration\n",
    "    @property\n",
    "    def runtime(self):\n",
    "        dur_ss = self.duration/1000\n",
    "        minutes = dur_ss//60\n",
    "        seconds = dur_ss%60\n",
    "        return f\"{minutes:.0f} Minutes and {seconds:.1f} Seconds\""
   ]
  },
  {
   "cell_type": "code",
   "execution_count": 53,
   "metadata": {},
   "outputs": [],
   "source": [
    "s = Song(\"Red\", \"3267102\", \"Taylor\", 217810)"
   ]
  },
  {
   "cell_type": "code",
   "execution_count": 54,
   "metadata": {},
   "outputs": [
    {
     "data": {
      "text/plain": [
       "'3 Minutes and 37.8 Seconds'"
      ]
     },
     "execution_count": 54,
     "metadata": {},
     "output_type": "execute_result"
    }
   ],
   "source": [
    "s.runtime"
   ]
  },
  {
   "cell_type": "markdown",
   "metadata": {},
   "source": [
    "## Playlist"
   ]
  },
  {
   "cell_type": "code",
   "execution_count": 99,
   "metadata": {},
   "outputs": [],
   "source": [
    "class Playlist:\n",
    "    def __init__(self, name, id, length):\n",
    "        self.name = name\n",
    "        self.id = id\n",
    "        self.length = length\n",
    "    \n",
    "    @property\n",
    "    def songs(self):\n",
    "        songs = []\n",
    "        offset = 0\n",
    "        while True:\n",
    "            results = sp.playlist_tracks(self.id, offset=offset)\n",
    "            for track in results[\"items\"]:\n",
    "                songs.append(Song(track[\"track\"][\"name\"], track[\"track\"][\"id\"], track[\"track\"][\"artists\"][0][\"name\"], track[\"track\"][\"duration_ms\"]))\n",
    "            offset += len(results[\"items\"])\n",
    "            if offset >= results[\"total\"]:\n",
    "                break\n",
    "        return songs\n",
    "\n",
    "    def __str__(self):\n",
    "        return self.name\n",
    "\n",
    "    def add_songs(self, songs):\n",
    "        if not isinstance(songs, list):\n",
    "            songs = [songs]\n",
    "        songs = [song.id for song in songs]\n",
    "        sp.playlist_add_items(self.id, songs)\n",
    "        self.length = sp.playlist(self.id)[\"tracks\"][\"total\"]\n",
    "\n",
    "    def remove_songs(self, songs):\n",
    "        if not isinstance(songs, list):\n",
    "            songs = [songs]\n",
    "        songs = [song.id for song in songs]\n",
    "        sp.playlist_remove_all_occurrences_of_items(self.id, songs)\n",
    "        self.length = sp.playlist(self.id)[\"tracks\"][\"total\"]\n",
    "\n",
    "    def __len__(self):\n",
    "        return self.length\n",
    "        "
   ]
  },
  {
   "cell_type": "code",
   "execution_count": 100,
   "metadata": {},
   "outputs": [],
   "source": [
    "hari = User(\"Hari\", \"392uowv8fh00b9ie6ccn9cegs\")"
   ]
  },
  {
   "cell_type": "code",
   "execution_count": 101,
   "metadata": {},
   "outputs": [
    {
     "name": "stdout",
     "output_type": "stream",
     "text": [
      "A Tribute to Lata Ji\n"
     ]
    }
   ],
   "source": [
    "playlists = hari.playlists\n",
    "print(playlists[4])"
   ]
  },
  {
   "cell_type": "code",
   "execution_count": 102,
   "metadata": {},
   "outputs": [
    {
     "data": {
      "text/plain": [
       "60"
      ]
     },
     "execution_count": 102,
     "metadata": {},
     "output_type": "execute_result"
    }
   ],
   "source": [
    "len(playlists)"
   ]
  },
  {
   "cell_type": "code",
   "execution_count": 103,
   "metadata": {},
   "outputs": [
    {
     "name": "stdout",
     "output_type": "stream",
     "text": [
      "Best of Lata Mangeshkar 102 spotify:playlist:1QWtxo3TdZcwbem10bG4QL\n"
     ]
    }
   ],
   "source": [
    "playlist = playlists[36]\n",
    "print(playlist, len(playlist), playlist.id)"
   ]
  },
  {
   "cell_type": "code",
   "execution_count": 104,
   "metadata": {},
   "outputs": [],
   "source": [
    "songs = playlist.songs"
   ]
  },
  {
   "cell_type": "code",
   "execution_count": 105,
   "metadata": {},
   "outputs": [
    {
     "data": {
      "text/plain": [
       "102"
      ]
     },
     "execution_count": 105,
     "metadata": {},
     "output_type": "execute_result"
    }
   ],
   "source": [
    "len(songs)"
   ]
  },
  {
   "cell_type": "code",
   "execution_count": 107,
   "metadata": {},
   "outputs": [
    {
     "data": {
      "text/plain": [
       "'73YTvBoUG34tDnztcdd3iF'"
      ]
     },
     "execution_count": 107,
     "metadata": {},
     "output_type": "execute_result"
    }
   ],
   "source": [
    "songs[1].id"
   ]
  },
  {
   "cell_type": "code",
   "execution_count": 106,
   "metadata": {},
   "outputs": [
    {
     "name": "stdout",
     "output_type": "stream",
     "text": [
      "Chup Gaye Sare Nazare by Lata Mangeshkar 329274\n"
     ]
    }
   ],
   "source": [
    "print(songs[10], len(songs[10]))"
   ]
  },
  {
   "cell_type": "markdown",
   "metadata": {},
   "source": [
    "# Using The Classes"
   ]
  },
  {
   "cell_type": "markdown",
   "metadata": {},
   "source": [
    "## Clone a Playlist"
   ]
  },
  {
   "cell_type": "code",
   "execution_count": 63,
   "metadata": {},
   "outputs": [],
   "source": [
    "def clone_playlist(playlist, name, user=None):\n",
    "    if not user:\n",
    "        user = hari\n",
    "    new_playlist = hari.create_playlist(name)\n",
    "    new_playlist.add_songs(playlist.songs)\n",
    "    return new_playlist"
   ]
  },
  {
   "cell_type": "code",
   "execution_count": 64,
   "metadata": {},
   "outputs": [
    {
     "data": {
      "text/plain": [
       "<__main__.Playlist at 0x7ff5f9c26cd0>"
      ]
     },
     "execution_count": 64,
     "metadata": {},
     "output_type": "execute_result"
    }
   ],
   "source": [
    "clone_playlist(playlist, \"Cloned Playlist\")"
   ]
  },
  {
   "cell_type": "markdown",
   "metadata": {},
   "source": [
    "## Merge Playlists"
   ]
  },
  {
   "cell_type": "code",
   "execution_count": 120,
   "metadata": {},
   "outputs": [],
   "source": [
    "def merge_playlists(playlists, name, user=None):\n",
    "    if not user:\n",
    "        user = hari\n",
    "    new_playlist = hari.create_playlist(name)\n",
    "    i = 1\n",
    "    for playlist in playlists:\n",
    "        print(\"Merged Playlist \" + str(i) + \" of \" + str(len(playlists)), end=\"\\r\")\n",
    "        try:\n",
    "            new_playlist.add_songs(playlist.songs)\n",
    "        except:\n",
    "            print(\"Error Merging Playlist \" + str(playlist))\n",
    "        i += 1\n",
    "    return new_playlist"
   ]
  },
  {
   "cell_type": "code",
   "execution_count": 121,
   "metadata": {},
   "outputs": [],
   "source": [
    "bests = []\n",
    "for p in playlists:\n",
    "    if \"Best\" in str(p):\n",
    "        bests.append(p)"
   ]
  },
  {
   "cell_type": "code",
   "execution_count": 122,
   "metadata": {},
   "outputs": [
    {
     "data": {
      "text/plain": [
       "[<__main__.Playlist at 0x7ff5f9297d30>,\n",
       " <__main__.Playlist at 0x7ff5f9297130>,\n",
       " <__main__.Playlist at 0x7ff5f9071730>,\n",
       " <__main__.Playlist at 0x7ff5f9071760>,\n",
       " <__main__.Playlist at 0x7ff5f9071c70>,\n",
       " <__main__.Playlist at 0x7ff5f90711f0>,\n",
       " <__main__.Playlist at 0x7ff5f90718b0>,\n",
       " <__main__.Playlist at 0x7ff5f9071cd0>,\n",
       " <__main__.Playlist at 0x7ff5f9071a00>,\n",
       " <__main__.Playlist at 0x7ff5f9071790>,\n",
       " <__main__.Playlist at 0x7ff5f9071640>,\n",
       " <__main__.Playlist at 0x7ff5f9071550>,\n",
       " <__main__.Playlist at 0x7ff5f9071340>,\n",
       " <__main__.Playlist at 0x7ff5f92bb250>,\n",
       " <__main__.Playlist at 0x7ff5f92bb100>,\n",
       " <__main__.Playlist at 0x7ff5f92bba60>,\n",
       " <__main__.Playlist at 0x7ff5f91ddb20>,\n",
       " <__main__.Playlist at 0x7ff5f91dd5b0>,\n",
       " <__main__.Playlist at 0x7ff5f91dd550>,\n",
       " <__main__.Playlist at 0x7ff5f91dd520>,\n",
       " <__main__.Playlist at 0x7ff5f91dd4f0>,\n",
       " <__main__.Playlist at 0x7ff5f91dd400>,\n",
       " <__main__.Playlist at 0x7ff5f91dd340>,\n",
       " <__main__.Playlist at 0x7ff5f91dd3d0>,\n",
       " <__main__.Playlist at 0x7ff5f91dd2e0>,\n",
       " <__main__.Playlist at 0x7ff5f91dd0a0>,\n",
       " <__main__.Playlist at 0x7ff5f91dd2b0>,\n",
       " <__main__.Playlist at 0x7ff5f91dda00>,\n",
       " <__main__.Playlist at 0x7ff5f91dd130>,\n",
       " <__main__.Playlist at 0x7ff5f91dd250>,\n",
       " <__main__.Playlist at 0x7ff5f91dd6d0>,\n",
       " <__main__.Playlist at 0x7ff5f91dd940>,\n",
       " <__main__.Playlist at 0x7ff5f91ddee0>,\n",
       " <__main__.Playlist at 0x7ff5f91dd670>,\n",
       " <__main__.Playlist at 0x7ff5f91dd6a0>,\n",
       " <__main__.Playlist at 0x7ff5f91dd760>]"
      ]
     },
     "execution_count": 122,
     "metadata": {},
     "output_type": "execute_result"
    }
   ],
   "source": [
    "bests"
   ]
  },
  {
   "cell_type": "code",
   "execution_count": 123,
   "metadata": {},
   "outputs": [
    {
     "name": "stdout",
     "output_type": "stream",
     "text": [
      "Merged Playlist 21 of 36\r"
     ]
    },
    {
     "name": "stderr",
     "output_type": "stream",
     "text": [
      "HTTP Error for POST to https://api.spotify.com/v1/playlists/6Nb9AMRbo7Qh7Lm1R567vu/tracks with Params: {'position': None} returned 400 due to You can add a maximum of 100 tracks per request.\n"
     ]
    },
    {
     "name": "stdout",
     "output_type": "stream",
     "text": [
      "Error Merging Playlist Best of Lata Mangeshkar\n",
      "Error Merging Playlist Best of Shawn Mendes\n",
      "Merged Playlist 36 of 36\r"
     ]
    }
   ],
   "source": [
    "new_pl = merge_playlists(bests, \"Merged Playlist\")"
   ]
  },
  {
   "cell_type": "code",
   "execution_count": 124,
   "metadata": {},
   "outputs": [
    {
     "data": {
      "text/plain": [
       "511"
      ]
     },
     "execution_count": 124,
     "metadata": {},
     "output_type": "execute_result"
    }
   ],
   "source": [
    "len(new_pl)"
   ]
  },
  {
   "cell_type": "markdown",
   "metadata": {},
   "source": [
    "# The App"
   ]
  },
  {
   "cell_type": "markdown",
   "metadata": {},
   "source": [
    "Let's create a album with every song in the Best of Taylor's Albums."
   ]
  },
  {
   "cell_type": "code",
   "execution_count": 155,
   "metadata": {},
   "outputs": [],
   "source": [
    "hari = User(\"Hari\", \"392uowv8fh00b9ie6ccn9cegs\")"
   ]
  },
  {
   "cell_type": "code",
   "execution_count": 156,
   "metadata": {},
   "outputs": [],
   "source": [
    "all_playlists = hari.playlists"
   ]
  },
  {
   "cell_type": "code",
   "execution_count": 157,
   "metadata": {},
   "outputs": [],
   "source": [
    "pls_to_consider=[\n",
    "    \"Best of Red (TV)\",\n",
    "    \"Fearless_Bests\",\n",
    "    \"Taylor_Swift_Bests\",\n",
    "    \"Reputation_Bests\",\n",
    "    \"Speak_Now_Bests\",\n",
    "    \"1989_Bests\",\n",
    "    \"Folklore_Bests\",\n",
    "    \"Lover_Bests\",\n",
    "    \"Evermore_Bests\",\n",
    "]"
   ]
  },
  {
   "cell_type": "code",
   "execution_count": 129,
   "metadata": {},
   "outputs": [],
   "source": [
    "pls = []\n",
    "for pl in all_playlists:\n",
    "    if str(pl) in pls_to_consider:\n",
    "        pls.append(pl)"
   ]
  },
  {
   "cell_type": "code",
   "execution_count": 130,
   "metadata": {},
   "outputs": [
    {
     "data": {
      "text/plain": [
       "[<__main__.Playlist at 0x7ff5f9070430>,\n",
       " <__main__.Playlist at 0x7ff5e7b7ec40>,\n",
       " <__main__.Playlist at 0x7ff5e7c9c4f0>,\n",
       " <__main__.Playlist at 0x7ff5e7c9ca30>,\n",
       " <__main__.Playlist at 0x7ff5e7c9c9a0>,\n",
       " <__main__.Playlist at 0x7ff5e7c9cbb0>,\n",
       " <__main__.Playlist at 0x7ff5e7c9ca60>,\n",
       " <__main__.Playlist at 0x7ff5e7c9ca00>,\n",
       " <__main__.Playlist at 0x7ff5e7c9cac0>]"
      ]
     },
     "execution_count": 130,
     "metadata": {},
     "output_type": "execute_result"
    }
   ],
   "source": [
    "pls"
   ]
  },
  {
   "cell_type": "code",
   "execution_count": 131,
   "metadata": {},
   "outputs": [
    {
     "name": "stdout",
     "output_type": "stream",
     "text": [
      "Merged Playlist 9 of 9\r"
     ]
    }
   ],
   "source": [
    "new_pl = merge_playlists(pls, \"Bests_From_All_Taylor_Albums\")"
   ]
  },
  {
   "cell_type": "code",
   "execution_count": 132,
   "metadata": {},
   "outputs": [
    {
     "data": {
      "text/plain": [
       "87"
      ]
     },
     "execution_count": 132,
     "metadata": {},
     "output_type": "execute_result"
    }
   ],
   "source": [
    "len(new_pl)"
   ]
  },
  {
   "cell_type": "code",
   "execution_count": 133,
   "metadata": {},
   "outputs": [],
   "source": [
    "all_songs = new_pl.songs"
   ]
  },
  {
   "cell_type": "code",
   "execution_count": 134,
   "metadata": {},
   "outputs": [
    {
     "data": {
      "text/plain": [
       "[{'danceability': 0.594,\n",
       "  'energy': 0.713,\n",
       "  'key': 9,\n",
       "  'loudness': -5.314,\n",
       "  'mode': 1,\n",
       "  'speechiness': 0.0503,\n",
       "  'acousticness': 0.000328,\n",
       "  'instrumentalness': 0,\n",
       "  'liveness': 0.114,\n",
       "  'valence': 0.328,\n",
       "  'tempo': 129.958,\n",
       "  'type': 'audio_features',\n",
       "  'id': '6lzc0Al0zfZOIFsFvBS1ki',\n",
       "  'uri': 'spotify:track:6lzc0Al0zfZOIFsFvBS1ki',\n",
       "  'track_href': 'https://api.spotify.com/v1/tracks/6lzc0Al0zfZOIFsFvBS1ki',\n",
       "  'analysis_url': 'https://api.spotify.com/v1/audio-analysis/6lzc0Al0zfZOIFsFvBS1ki',\n",
       "  'duration_ms': 295413,\n",
       "  'time_signature': 4}]"
      ]
     },
     "execution_count": 134,
     "metadata": {},
     "output_type": "execute_result"
    }
   ],
   "source": [
    "sp.audio_features(all_songs[0].id)"
   ]
  },
  {
   "cell_type": "code",
   "execution_count": 137,
   "metadata": {},
   "outputs": [
    {
     "name": "stdout",
     "output_type": "stream",
     "text": [
      "Red (Taylor's Version) by Taylor Swift\n"
     ]
    }
   ],
   "source": [
    "print(all_songs[1])"
   ]
  },
  {
   "cell_type": "code",
   "execution_count": 158,
   "metadata": {},
   "outputs": [],
   "source": [
    "for pl in all_playlists:\n",
    "    if str(pl) == \"Temp\":\n",
    "        break"
   ]
  },
  {
   "cell_type": "code",
   "execution_count": 159,
   "metadata": {},
   "outputs": [
    {
     "name": "stdout",
     "output_type": "stream",
     "text": [
      "Temp 0\n"
     ]
    }
   ],
   "source": [
    "print(pl, len(pl))"
   ]
  },
  {
   "cell_type": "code",
   "execution_count": 152,
   "metadata": {},
   "outputs": [],
   "source": [
    "pl.remove_songs(pl.songs)"
   ]
  }
 ],
 "metadata": {
  "kernelspec": {
   "display_name": "Python 3.9.12 ('data-science')",
   "language": "python",
   "name": "python3"
  },
  "language_info": {
   "codemirror_mode": {
    "name": "ipython",
    "version": 3
   },
   "file_extension": ".py",
   "mimetype": "text/x-python",
   "name": "python",
   "nbconvert_exporter": "python",
   "pygments_lexer": "ipython3",
   "version": "3.9.12"
  },
  "orig_nbformat": 4,
  "vscode": {
   "interpreter": {
    "hash": "2efee1efa502125d01e6b4768ba06d9453d29f3642bfd14ad5d4a769de82e88c"
   }
  }
 },
 "nbformat": 4,
 "nbformat_minor": 2
}
