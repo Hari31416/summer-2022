{
 "cells": [
  {
   "cell_type": "markdown",
   "metadata": {},
   "source": [
    "<h2 id=\"Contents\">Contents<a href=\"#Contents\"></a></h2>\n",
    "        <ol>\n",
    "        <li><a class=\"\" href=\"#Simple-Linear-Regression\">Simple Linear Regression</a></li>\n",
    "<ol><li><a class=\"\" href=\"#Estimating-the-Coefficients\">Estimating the Coefficients</a></li>\n",
    "<li><a class=\"\" href=\"#Assessing-the-Accuracy-of-the-Model\">Assessing the Accuracy of the Model</a></li>\n",
    "<ol><li><a class=\"\" href=\"#Residual-Standard-Error\">Residual Standard Error</a></li>\n",
    "<li><a class=\"\" href=\"#$R^2$-Statistic\">R^2 Statistic</a></li>\n",
    "</ol><li><a class=\"\" href=\"#Multiple-Linear-Regression\">Multiple Linear Regression</a></li>\n",
    "<ol><li><a class=\"\" href=\"#Estimating-the-Regression-Coefficients\">Estimating the Regression Coefficients</a></li>\n",
    "<li><a class=\"\" href=\"#Removing-the-Additive-Assumption\">Removing the Additive Assumption</a></li>\n",
    "<li><a class=\"\" href=\"#Removing-the-Linear-Assumption\">Removing the Linear Assumption</a></li>\n",
    "</ol><li><a class=\"\" href=\"#Potential-Problems\">Potential Problems</a></li>\n",
    "</ol>"
   ]
  },
  {
   "cell_type": "markdown",
   "metadata": {},
   "source": [
    "# Simple Linear Regression"
   ]
  },
  {
   "cell_type": "markdown",
   "metadata": {},
   "source": [
    "In linear regression we assume that there is approximately a linear\n",
    "relationship between X and Y where Y is the equantity we are trying to predict using X. Mathematicaly, we can write the equation of the line as:\n",
    "$$ Y \\approx \\beta_0 + \\beta_1 X $$\n",
    "We will sometimes\n",
    "describe this by saying that we are regressing Y on X (or Y onto X). In above $\\beta_0$ and $\\beta_1$ are two unknown constants that represent\n",
    "the intercept and slope terms in the linear model. Together, $\\beta_0$ and $\\beta_1$ are\n",
    "intercept\n",
    "known as the model *coefficients* or *parameters*. Once we have the coefficients, we can use them to predict Y."
   ]
  },
  {
   "cell_type": "markdown",
   "metadata": {},
   "source": [
    "## Estimating the Coefficients"
   ]
  },
  {
   "cell_type": "markdown",
   "metadata": {},
   "source": [
    "Let\n",
    "$$ (x_1, y_1), (x_2, y_2), \\dots, (x_n, y_n) $$\n",
    "represent n observation pairs, each of which consists of a measurement\n",
    "of X and a measurement of Y . In the Advertising example, this data\n",
    "set consists of the TV advertising budget and product sales in n = 200\n",
    "different markets. \n",
    "\n",
    "Our\n",
    "goal is to obtain coefficient estimates $\\hat{\\beta_0}$ and $\\hat{\\beta_1}$ such that the linear model fits the available data well—that is, so that $y_i ≈ \\hat{\\beta_0} + \\hat{\\beta_1}x_i$ for $i =1, \\ldots , n$. This is done by minimizing the least squares error, or the sum of the squares of the residuals."
   ]
  },
  {
   "cell_type": "markdown",
   "metadata": {},
   "source": [
    "Let $ \\hat{y_i} = \\hat{\\beta_0} + \\hat{\\beta_1} $ be the predictions for the $i$th observation. We define the residual as\n",
    "$ e_i = y_i - \\hat{y_i} $ then the sum of the squares of the residuals is\n",
    "$$ RSS =  \\sum_{i=1}^n (e_i)^2 = \\sum_{i=1}^n (y_i - \\hat{y_i})^2 $$\n",
    "Using calculus, we can show that the sum of the squares of the residuals is minized when\n",
    "$$\n",
    "\\begin{align*}\n",
    "\\hat{\\beta_0} &= \\frac{\\sum_{i=1}^n(x_i - \\bar{x})(y_i - \\bar{y})}{\\sum_{i=1}^n(x_i - \\bar{x})^2} \\\\\n",
    "\\hat{\\beta_1} &= \\bar{y} - \\hat{\\beta_1}\\bar{x} \\\\\n",
    "\\end{align*}\n",
    "$$\n",
    "Here, $\\bar{x}$ and $\\bar{y}$ are the mean values of $x_i$ and $y_i$ respectively."
   ]
  },
  {
   "cell_type": "markdown",
   "metadata": {},
   "source": [
    "![](images/03_01.png)"
   ]
  },
  {
   "cell_type": "markdown",
   "metadata": {},
   "source": [
    "The figure displays the simple linear regression fit to the Advertising\n",
    "data."
   ]
  },
  {
   "cell_type": "markdown",
   "metadata": {},
   "source": [
    "Let's see how this works in code!"
   ]
  },
  {
   "cell_type": "code",
   "execution_count": 5,
   "metadata": {},
   "outputs": [
    {
     "data": {
      "text/html": [
       "<div>\n",
       "<style scoped>\n",
       "    .dataframe tbody tr th:only-of-type {\n",
       "        vertical-align: middle;\n",
       "    }\n",
       "\n",
       "    .dataframe tbody tr th {\n",
       "        vertical-align: top;\n",
       "    }\n",
       "\n",
       "    .dataframe thead th {\n",
       "        text-align: right;\n",
       "    }\n",
       "</style>\n",
       "<table border=\"1\" class=\"dataframe\">\n",
       "  <thead>\n",
       "    <tr style=\"text-align: right;\">\n",
       "      <th></th>\n",
       "      <th>TV</th>\n",
       "      <th>radio</th>\n",
       "      <th>newspaper</th>\n",
       "      <th>sales</th>\n",
       "    </tr>\n",
       "  </thead>\n",
       "  <tbody>\n",
       "    <tr>\n",
       "      <th>0</th>\n",
       "      <td>230.1</td>\n",
       "      <td>37.8</td>\n",
       "      <td>69.2</td>\n",
       "      <td>22.1</td>\n",
       "    </tr>\n",
       "    <tr>\n",
       "      <th>1</th>\n",
       "      <td>44.5</td>\n",
       "      <td>39.3</td>\n",
       "      <td>45.1</td>\n",
       "      <td>10.4</td>\n",
       "    </tr>\n",
       "    <tr>\n",
       "      <th>2</th>\n",
       "      <td>17.2</td>\n",
       "      <td>45.9</td>\n",
       "      <td>69.3</td>\n",
       "      <td>9.3</td>\n",
       "    </tr>\n",
       "    <tr>\n",
       "      <th>3</th>\n",
       "      <td>151.5</td>\n",
       "      <td>41.3</td>\n",
       "      <td>58.5</td>\n",
       "      <td>18.5</td>\n",
       "    </tr>\n",
       "    <tr>\n",
       "      <th>4</th>\n",
       "      <td>180.8</td>\n",
       "      <td>10.8</td>\n",
       "      <td>58.4</td>\n",
       "      <td>12.9</td>\n",
       "    </tr>\n",
       "  </tbody>\n",
       "</table>\n",
       "</div>"
      ],
      "text/plain": [
       "      TV  radio  newspaper  sales\n",
       "0  230.1   37.8       69.2   22.1\n",
       "1   44.5   39.3       45.1   10.4\n",
       "2   17.2   45.9       69.3    9.3\n",
       "3  151.5   41.3       58.5   18.5\n",
       "4  180.8   10.8       58.4   12.9"
      ]
     },
     "execution_count": 5,
     "metadata": {},
     "output_type": "execute_result"
    }
   ],
   "source": [
    "import pandas as pd\n",
    "import numpy as np\n",
    "import matplotlib.pyplot as plt\n",
    "import seaborn as sns\n",
    "df = pd.read_csv(\"data\\Advertising.csv\")\n",
    "df.head()"
   ]
  },
  {
   "cell_type": "code",
   "execution_count": 10,
   "metadata": {},
   "outputs": [],
   "source": [
    "#Setting global parameters\n",
    "plt.rcParams['figure.figsize'] = (10, 6)\n",
    "plt.rcParams['font.size'] = 14\n",
    "sns.set_theme(style=\"whitegrid\")"
   ]
  },
  {
   "cell_type": "code",
   "execution_count": 17,
   "metadata": {},
   "outputs": [
    {
     "data": {
      "text/plain": [
       "(7.032593549127698, 0.047536640433019736)"
      ]
     },
     "execution_count": 17,
     "metadata": {},
     "output_type": "execute_result"
    }
   ],
   "source": [
    "# Calculating beta0 and beta1\n",
    "tv = df[\"TV\"]\n",
    "tv_mean = tv.mean()\n",
    "sales = df[\"sales\"]\n",
    "sales_mean = sales.mean()\n",
    "\n",
    "beta1 = np.sum((tv - tv_mean) * (sales - sales_mean)) / np.sum((tv - tv_mean) ** 2)\n",
    "beta0 = sales_mean - beta1 * tv_mean\n",
    "beta0, beta1"
   ]
  },
  {
   "cell_type": "code",
   "execution_count": 20,
   "metadata": {},
   "outputs": [
    {
     "data": {
      "image/png": "[encoded data removed]",
      "text/plain": [
       "<Figure size 720x432 with 1 Axes>"
      ]
     },
     "metadata": {},
     "output_type": "display_data"
    }
   ],
   "source": [
    "#plotting the linear regression line\n",
    "x = np.arange(0, 300, 0.5)\n",
    "y = beta0 + beta1 * x\n",
    "sns.scatterplot(x=\"TV\", y=\"sales\", data=df, color=\"black\")\n",
    "plt.plot(x, y, color='red', label='Regression Line')\n",
    "plt.legend();"
   ]
  },
  {
   "cell_type": "markdown",
   "metadata": {},
   "source": [
    ">*Null hypothesis:* There is no relationship between X and Y.\n",
    "<br>\n",
    "*Alternative hypothesis:* There is a relationship between X and Y."
   ]
  },
  {
   "cell_type": "markdown",
   "metadata": {},
   "source": [
    "## Assessing the Accuracy of the Model"
   ]
  },
  {
   "cell_type": "markdown",
   "metadata": {},
   "source": [
    "The quality of a linear regression fit is typically assessed\n",
    "using two related quantities: the residual standard error (RSE) and the R2\n",
    "R2\n",
    "statistic."
   ]
  },
  {
   "cell_type": "markdown",
   "metadata": {},
   "source": [
    "### Residual Standard Error"
   ]
  },
  {
   "cell_type": "markdown",
   "metadata": {},
   "source": [
    "RSE is the average amount that the response\n",
    "will deviate from the true regression line. It is computed using the formula\n",
    "$$\n",
    "RSE = \\sqrt{\\frac{1}{n-2} \\sum_{i=1}^n (y_i - \\hat{y_i})^2}\n",
    "$$"
   ]
  },
  {
   "cell_type": "markdown",
   "metadata": {},
   "source": [
    "### $R^2$ Statistic"
   ]
  },
  {
   "cell_type": "markdown",
   "metadata": {},
   "source": [
    "The RSE provides an absolute measure of lack of fit of the model to the data. But since it is measured in the units of Y , it is not always\n",
    "clear what constitutes a good RSE. The $R^2$ statistic provides an alternative\n",
    "measure of fit. It takes the form of a proportion—the proportion of variance\n",
    "explained—and so it always takes on a value between 0 and 1, and is\n",
    "independent of the scale of Y. To calculate $R^2$, we use the formula:\n",
    "$$\n",
    "R^2 = 1 - \\frac{RSS}{TSS}\n",
    "$$\n",
    "where $RSS$ is the residual sum of squares and $TSS$ is the total sum of squares, $TSS = \\sum_{i=1}^n (y_i - \\bar{y})^2$"
   ]
  },
  {
   "cell_type": "markdown",
   "metadata": {},
   "source": [
    "## Multiple Linear Regression"
   ]
  },
  {
   "cell_type": "markdown",
   "metadata": {},
   "source": [
    "Simple linear regression is a useful approach for predicting a response on the\n",
    "basis of a single predictor variable. However, in practice we often have more\n",
    "than one predictor. One approach to this is to use a linear regression model for each predictor. However, this approach is not very satisfactory because it is not clear how to combine the individual linear regression models into a single model to make a prediction. Instead, we extend the simple linear regression model to multiple linear regression:\n",
    "$$\n",
    "Y = \\beta_0 + \\beta_1 X_1 + \\beta_2 X_2 + \\dots + \\beta_p X_p\n",
    "$$"
   ]
  },
  {
   "cell_type": "markdown",
   "metadata": {},
   "source": [
    "> We can interpret $\\beta_j$ as the average\n",
    "effect on $Y$ of a one unit increase in $X_j$, holding all other predictors fixed."
   ]
  },
  {
   "cell_type": "markdown",
   "metadata": {},
   "source": [
    "In rge advertising example, this gives:\n",
    "$$\n",
    "\\text{sales} = \\beta_0 + \\beta_1 \\text{ TV}+ \\beta_2 \\text{ radio} + \\beta_3 \\text{ newspaper}\n",
    "$$"
   ]
  },
  {
   "cell_type": "markdown",
   "metadata": {},
   "source": [
    "### Estimating the Regression Coefficients"
   ]
  },
  {
   "cell_type": "markdown",
   "metadata": {},
   "source": [
    "The parameters are estimated using the same least squares approach that\n",
    "we saw in the context of simple linear regression. We choose $ \\beta_0, \\beta_1, \\dots \\beta_p $\n",
    "to minimize the sum of squared residuals.\n",
    "$$\n",
    "\\begin{align*}\n",
    "RSS &= \\sum_{i=1}^n (y_i - \\hat{y_i})^2\\\\\n",
    "    &= \\sum_{i=1}^n (y_i - \\hat{\\beta_0} - \\hat{\\beta_1} x_1 - \\hat{\\beta_2} x_2 - \\dots - \\hat{\\beta_p} x_p)^2\n",
    "\\end{align*}    \n",
    "$$"
   ]
  },
  {
   "cell_type": "markdown",
   "metadata": {},
   "source": [
    "The values $\\hat{\\beta_0}, \\hat{\\beta_1}, \\dots \\hat{\\beta_p}$ that minimize the sum of squared residuals are the coefficients of the linear regression model.\n",
    "\n",
    "The multiple regression coefficient estimates have\n",
    "somewhat complicated forms that are most easily represented using matrix algebra. One can use any statistical software package to calculate the coefficient estimates."
   ]
  },
  {
   "cell_type": "markdown",
   "metadata": {},
   "source": [
    ">**The additive and linear assumptions of the linear model:** The additive assumption means that the effect of changes in a predictor $X_j$ on the response $Y$ is\n",
    "independent of the values of the other predictors. The linear assumption\n",
    "states that the change in the response $Y$ due to a one-unit change in $X_j$ is\n",
    "constant, regardless of the value of $X_j$.\n",
    "Bothe of these assumptions are not very sophisticated, and are often not valid in real life."
   ]
  },
  {
   "cell_type": "markdown",
   "metadata": {},
   "source": [
    "### Removing the Additive Assumption"
   ]
  },
  {
   "cell_type": "markdown",
   "metadata": {},
   "source": [
    "The additive assumption can be removed by adding interaction terms to the model. For example, a linear model in the form of:\n",
    "$$\n",
    "Y = \\beta_0 + \\beta_1 X_1 + \\beta_2 X_2 + \\epsilon\n",
    "$$\n",
    "may be extended to the form:\n",
    "$$\n",
    "Y = \\beta_0 + \\beta_1 X_1 + \\beta_2 X_2 + \\beta_3 X_1 X_2 + \\epsilon\n",
    "$$"
   ]
  },
  {
   "cell_type": "markdown",
   "metadata": {},
   "source": [
    "### Removing the Linear Assumption"
   ]
  },
  {
   "cell_type": "markdown",
   "metadata": {},
   "source": [
    "A very simple way to directly extend the linear model\n",
    "to accommodate non-linear relationships, using polynomial regression. In this case, the model is extended to the form:\n",
    "$$\n",
    "Y = \\beta_0 + \\beta_1 X_1 + \\beta_2 X_2 + \\beta_3 X_1^2 + \\beta_4 X_2^2+ \\beta_5X_1X_2 + \\epsilon\n",
    "$$"
   ]
  },
  {
   "cell_type": "markdown",
   "metadata": {},
   "source": [
    "## Potential Problems"
   ]
  },
  {
   "cell_type": "markdown",
   "metadata": {},
   "source": [
    "Some very common problems in linear regression are:\n",
    "1. **Non-linearity of the response-predictor relationships**.\n",
    "2. **Correlation of error terms**.\n",
    "3. **Non-constant variance of error terms**.\n",
    "4. **Outliers**.\n",
    "5. **High-leverage points**.\n",
    "6. **Collinearity** (Two or more predictor variables are closely related to one another)."
   ]
  },
  {
   "cell_type": "markdown",
   "metadata": {},
   "source": [
    ">*Parametric and non-parametric models:* Parametric models assume that the relationship between the response and the predictor variables has a form $f(X)$. Non-parametric models assume that the relationship between the response and the predictor variables are not in this form."
   ]
  }
 ],
 "metadata": {
  "interpreter": {
   "hash": "852f6817c374c63ade76971e91c27771dd3e6e8efc4a3caead6137c0182519f6"
  },
  "kernelspec": {
   "display_name": "Python 3.8.5",
   "language": "python",
   "name": "python3"
  },
  "language_info": {
   "codemirror_mode": {
    "name": "ipython",
    "version": 3
   },
   "file_extension": ".py",
   "mimetype": "text/x-python",
   "name": "python",
   "nbconvert_exporter": "python",
   "pygments_lexer": "ipython3",
   "version": "3.8.5"
  },
  "orig_nbformat": 4
 },
 "nbformat": 4,
 "nbformat_minor": 2
}
