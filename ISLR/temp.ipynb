{
 "cells": [
  {
   "cell_type": "code",
   "execution_count": 1,
   "metadata": {},
   "outputs": [],
   "source": [
    "from life_saving_tools.files.notebook import Notebook"
   ]
  },
  {
   "cell_type": "code",
   "execution_count": 2,
   "metadata": {},
   "outputs": [],
   "source": [
    "n = Notebook()"
   ]
  },
  {
   "cell_type": "code",
   "execution_count": 5,
   "metadata": {},
   "outputs": [
    {
     "name": "stdout",
     "output_type": "stream",
     "text": [
      "Converting the Notebook to HTML.\n",
      "Looking for the Headers and their positions.\n",
      "Getting correct order of the Headers.\n",
      "Creating the Contents.\n",
      "Content copied to clipboard.\n"
     ]
    }
   ],
   "source": [
    "n.create_content(\"Moving_Beyond_Linearity.ipynb\")"
   ]
  },
  {
   "cell_type": "code",
   "execution_count": 6,
   "metadata": {},
   "outputs": [
    {
     "name": "stderr",
     "output_type": "stream",
     "text": [
      "Exporting notebooks...: 100%|██████████| 8/8 [00:03<00:00,  2.56it/s]\n"
     ]
    },
    {
     "data": {
      "text/plain": [
       "['.\\\\.\\\\Classification.html',\n",
       " '.\\\\.\\\\Linear_Model_Selection_and_Regularization.html',\n",
       " '.\\\\.\\\\Linear_Regression.html',\n",
       " '.\\\\.\\\\Moving_Beyond_Linearity.html',\n",
       " '.\\\\.\\\\Resampling_Methods.html',\n",
       " '.\\\\.\\\\Support_Vector_Machine.html',\n",
       " '.\\\\.\\\\temp.html',\n",
       " '.\\\\.\\\\Tree_Based_Methods.html']"
      ]
     },
     "execution_count": 6,
     "metadata": {},
     "output_type": "execute_result"
    }
   ],
   "source": [
    "n.export_directory()"
   ]
  }
 ],
 "metadata": {
  "interpreter": {
   "hash": "21040c1b576dca9f4f330277849b9f4819256d524dee23c2b89e431027dafe11"
  },
  "kernelspec": {
   "display_name": "Python 3.8.5",
   "language": "python",
   "name": "python3"
  },
  "language_info": {
   "codemirror_mode": {
    "name": "ipython",
    "version": 3
   },
   "file_extension": ".py",
   "mimetype": "text/x-python",
   "name": "python",
   "nbconvert_exporter": "python",
   "pygments_lexer": "ipython3",
   "version": "3.8.5"
  },
  "orig_nbformat": 4
 },
 "nbformat": 4,
 "nbformat_minor": 2
}
