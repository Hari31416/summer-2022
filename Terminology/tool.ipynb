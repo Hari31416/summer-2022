{
 "cells": [
  {
   "cell_type": "code",
   "execution_count": 4,
   "metadata": {},
   "outputs": [],
   "source": [
    "from life_saving_tools.Files import Notebook\n",
    "import os"
   ]
  },
  {
   "cell_type": "code",
   "execution_count": 2,
   "metadata": {},
   "outputs": [],
   "source": [
    "n = Notebook()"
   ]
  },
  {
   "cell_type": "code",
   "execution_count": 5,
   "metadata": {},
   "outputs": [],
   "source": [
    "for file in os.listdir():\n",
    "    if \"tool\" in file:\n",
    "        continue\n",
    "    if file.endswith(\".ipynb\"):\n",
    "        n.export_notebook(file)"
   ]
  },
  {
   "cell_type": "code",
   "execution_count": 1,
   "metadata": {},
   "outputs": [],
   "source": [
    "import nbformat\n",
    "from nbconvert import HTMLExporter"
   ]
  },
  {
   "cell_type": "code",
   "execution_count": 2,
   "metadata": {},
   "outputs": [],
   "source": [
    "notebook_path = \"Loss_Functions_and_Errors.ipynb\"\n",
    "notebook = nbformat.read(notebook_path, as_version=4)\n",
    "html_exporter = HTMLExporter(template_name=\"classic\")\n",
    "(body, _) = html_exporter.from_notebook_node(notebook)"
   ]
  },
  {
   "cell_type": "code",
   "execution_count": 4,
   "metadata": {},
   "outputs": [],
   "source": [
    "import bs4"
   ]
  },
  {
   "cell_type": "code",
   "execution_count": 6,
   "metadata": {},
   "outputs": [],
   "source": [
    "soup = bs4.BeautifulSoup(body, \"html.parser\")\n"
   ]
  },
  {
   "cell_type": "code",
   "execution_count": 8,
   "metadata": {},
   "outputs": [
    {
     "data": {
      "text/plain": [
       "[<h2 id=\"TP,-FP,-FN-and-TN\">TP, FP, FN and TN<a class=\"anchor-link\" href=\"#TP,-FP,-FN-and-TN\">¶</a></h2>,\n",
       " <h2 id=\"Accuracy\">Accuracy<a class=\"anchor-link\" href=\"#Accuracy\">¶</a></h2>,\n",
       " <h2 id=\"Precision\">Precision<a class=\"anchor-link\" href=\"#Precision\">¶</a></h2>,\n",
       " <h2 id=\"F1-Score\">F1 Score<a class=\"anchor-link\" href=\"#F1-Score\">¶</a></h2>,\n",
       " <h2 id=\"AUC-ROC-curve\">AUC-ROC curve<a class=\"anchor-link\" href=\"#AUC-ROC-curve\">¶</a></h2>,\n",
       " <h2 id=\"Cross-Entropy\">Cross Entropy<a class=\"anchor-link\" href=\"#Cross-Entropy\">¶</a></h2>,\n",
       " <h2 id=\"Mean-Absolute-Error\">Mean Absolute Error<a class=\"anchor-link\" href=\"#Mean-Absolute-Error\">¶</a></h2>,\n",
       " <h2 id=\"Mean-Squared-Error\">Mean Squared Error<a class=\"anchor-link\" href=\"#Mean-Squared-Error\">¶</a></h2>,\n",
       " <h2 id=\"Mean-Squared-Log-Error\">Mean Squared Log Error<a class=\"anchor-link\" href=\"#Mean-Squared-Log-Error\">¶</a></h2>,\n",
       " <h2 id=\"$R^2$-Score\">$R^2$ Score<a class=\"anchor-link\" href=\"#$R^2$-Score\">¶</a></h2>]"
      ]
     },
     "execution_count": 8,
     "metadata": {},
     "output_type": "execute_result"
    }
   ],
   "source": [
    "h2s = soup.find_all(\"h2\")\n",
    "h2s"
   ]
  },
  {
   "cell_type": "code",
   "execution_count": 12,
   "metadata": {},
   "outputs": [
    {
     "data": {
      "text/plain": [
       "<a class=\"anchor-link\" href=\"#Accuracy\">¶</a>"
      ]
     },
     "execution_count": 12,
     "metadata": {},
     "output_type": "execute_result"
    }
   ],
   "source": [
    "h2s[1].a"
   ]
  },
  {
   "cell_type": "code",
   "execution_count": null,
   "metadata": {},
   "outputs": [],
   "source": []
  }
 ],
 "metadata": {
  "interpreter": {
   "hash": "ce44b17c45080b8f56a19c9450d52461d624c968fcd959bb1916985c5ffa2b94"
  },
  "kernelspec": {
   "display_name": "Python 3.8.5",
   "language": "python",
   "name": "python3"
  },
  "language_info": {
   "codemirror_mode": {
    "name": "ipython",
    "version": 3
   },
   "file_extension": ".py",
   "mimetype": "text/x-python",
   "name": "python",
   "nbconvert_exporter": "python",
   "pygments_lexer": "ipython3",
   "version": "3.8.5"
  },
  "orig_nbformat": 4
 },
 "nbformat": 4,
 "nbformat_minor": 2
}
